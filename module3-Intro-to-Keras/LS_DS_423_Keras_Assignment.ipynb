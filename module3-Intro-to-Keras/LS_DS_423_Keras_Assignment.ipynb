{
  "nbformat": 4,
  "nbformat_minor": 0,
  "metadata": {
    "colab": {
      "name": "LS_DS_433_Keras_Assignment.ipynb",
      "provenance": [],
      "include_colab_link": true
    },
    "kernelspec": {
      "display_name": "Python 3",
      "language": "python",
      "name": "python3"
    },
    "language_info": {
      "codemirror_mode": {
        "name": "ipython",
        "version": 3
      },
      "file_extension": ".py",
      "mimetype": "text/x-python",
      "name": "python",
      "nbconvert_exporter": "python",
      "pygments_lexer": "ipython3",
      "version": "3.7.3"
    }
  },
  "cells": [
    {
      "cell_type": "markdown",
      "metadata": {
        "id": "view-in-github",
        "colab_type": "text"
      },
      "source": [
        "<a href=\"https://colab.research.google.com/github/Jaydenzk/DS-Unit-4-Sprint-2-Neural-Networks/blob/master/module3-Intro-to-Keras/LS_DS_423_Keras_Assignment.ipynb\" target=\"_parent\"><img src=\"https://colab.research.google.com/assets/colab-badge.svg\" alt=\"Open In Colab\"/></a>"
      ]
    },
    {
      "cell_type": "markdown",
      "metadata": {
        "colab_type": "text",
        "id": "pBQsZEJmubLs"
      },
      "source": [
        "<img align=\"left\" src=\"https://lever-client-logos.s3.amazonaws.com/864372b1-534c-480e-acd5-9711f850815c-1524247202159.png\" width=200>\n",
        "<br></br>\n",
        "\n",
        "# Neural Network Framework (Keras)\n",
        "\n",
        "## *Data Science Unit 4 Sprint 2 Assignmnet 3*\n",
        "\n",
        "## Use the Keras Library to build a Multi-Layer Perceptron Model on the Boston Housing dataset\n",
        "\n",
        "- The Boston Housing dataset comes with the Keras library so use Keras to import it into your notebook. \n",
        "- Normalize the data (all features should have roughly the same scale)\n",
        "- Import the type of model and layers that you will need from Keras.\n",
        "- Instantiate a model object and use `model.add()` to add layers to your model\n",
        "- Since this is a regression model you will have a single output node in the final layer.\n",
        "- Use activation functions that are appropriate for this task\n",
        "- Compile your model\n",
        "- Fit your model and report its accuracy in terms of Mean Squared Error\n",
        "- Use the history object that is returned from model.fit to make graphs of the model's loss or train/validation accuracies by epoch. \n",
        "- Run this same data through a linear regression model. Which achieves higher accuracy?\n",
        "- Do a little bit of feature engineering and see how that affects your neural network model. (you will need to change your model to accept more inputs)\n",
        "- After feature engineering, which model sees a greater accuracy boost due to the new features?"
      ]
    },
    {
      "cell_type": "code",
      "metadata": {
        "colab_type": "code",
        "id": "8NLTAR87uYJ-",
        "colab": {
          "base_uri": "https://localhost:8080/",
          "height": 71
        },
        "outputId": "938ffbe9-3196-43cd-f574-75b0c7f3b33c"
      },
      "source": [
        "##### Your Code Here #####\n",
        "\n",
        "# Load Boston housing dataset\n",
        "from tensorflow.keras.datasets import boston_housing\n",
        "from tensorflow.keras.utils import normalize\n",
        "\n",
        "(x_train, y_train), (x_test, y_test) = boston_housing.load_data()\n",
        "print(x_train.shape, y_train.shape, x_test.shape, y_test.shape)"
      ],
      "execution_count": 1,
      "outputs": [
        {
          "output_type": "stream",
          "text": [
            "Downloading data from https://storage.googleapis.com/tensorflow/tf-keras-datasets/boston_housing.npz\n",
            "57344/57026 [==============================] - 0s 0us/step\n",
            "(404, 13) (404,) (102, 13) (102,)\n"
          ],
          "name": "stdout"
        }
      ]
    },
    {
      "cell_type": "code",
      "metadata": {
        "id": "8u3ijMRVVTbO",
        "colab_type": "code",
        "colab": {}
      },
      "source": [
        "# Normalzie the data\n",
        "x_train = normalize(x_train, axis=1)\n",
        "x_test = normalize(x_test, axis=1)"
      ],
      "execution_count": 0,
      "outputs": []
    },
    {
      "cell_type": "code",
      "metadata": {
        "id": "20fikcvqVWYK",
        "colab_type": "code",
        "colab": {
          "base_uri": "https://localhost:8080/",
          "height": 415
        },
        "outputId": "7be72acd-835d-4f38-d543-3d046e310f10"
      },
      "source": [
        "import numpy as np\n",
        "from tensorflow.keras.layers import Dense\n",
        "from tensorflow.keras.models import Sequential\n",
        "\n",
        "np.random.seed(812)\n",
        "\n",
        "model = Sequential()\n",
        "\n",
        "# Input Layer\n",
        "model.add(Dense(16, input_dim=13, activation='relu'))\n",
        "\n",
        "# Hidden Layer\n",
        "model.add(Dense(16, activation='sigmoid'))\n",
        "model.add(Dense(16, activation='relu'))\n",
        "model.add(Dense(16, activation='linear'))\n",
        "\n",
        "# Output Layer\n",
        "model.add(Dense(1, activation='linear'))\n",
        "\n",
        "# Compile\n",
        "model.compile(loss='mean_squared_error', optimizer='adam', metrics=['mse'])\n",
        "model.summary()"
      ],
      "execution_count": 3,
      "outputs": [
        {
          "output_type": "stream",
          "text": [
            "WARNING:tensorflow:From /usr/local/lib/python3.6/dist-packages/tensorflow_core/python/ops/resource_variable_ops.py:1630: calling BaseResourceVariable.__init__ (from tensorflow.python.ops.resource_variable_ops) with constraint is deprecated and will be removed in a future version.\n",
            "Instructions for updating:\n",
            "If using Keras pass *_constraint arguments to layers.\n",
            "Model: \"sequential\"\n",
            "_________________________________________________________________\n",
            "Layer (type)                 Output Shape              Param #   \n",
            "=================================================================\n",
            "dense (Dense)                (None, 16)                224       \n",
            "_________________________________________________________________\n",
            "dense_1 (Dense)              (None, 16)                272       \n",
            "_________________________________________________________________\n",
            "dense_2 (Dense)              (None, 16)                272       \n",
            "_________________________________________________________________\n",
            "dense_3 (Dense)              (None, 16)                272       \n",
            "_________________________________________________________________\n",
            "dense_4 (Dense)              (None, 1)                 17        \n",
            "=================================================================\n",
            "Total params: 1,057\n",
            "Trainable params: 1,057\n",
            "Non-trainable params: 0\n",
            "_________________________________________________________________\n"
          ],
          "name": "stdout"
        }
      ]
    },
    {
      "cell_type": "code",
      "metadata": {
        "id": "GLMb-falVWW2",
        "colab_type": "code",
        "colab": {
          "base_uri": "https://localhost:8080/",
          "height": 53
        },
        "outputId": "3eaa3d43-d84f-4ee7-b8d3-5b824f85df16"
      },
      "source": [
        "# Hyper parameter\n",
        "batch_size = 32\n",
        "epochs = 1000\n",
        "\n",
        "history = model.fit(x_train, y_train, batch_size=batch_size, epochs=epochs, validation_split=.1, verbose=0)\n",
        "# validation_split - reserve some data from dataset\n",
        "# verbose shows the print statements\n",
        "scores = model.evaluate(x_test, y_test)\n",
        "print(f'{model.metrics_names[1]}: {scores[1]}')"
      ],
      "execution_count": 5,
      "outputs": [
        {
          "output_type": "stream",
          "text": [
            "102/102 [==============================] - 0s 91us/sample - loss: 30.7300 - mean_squared_error: 30.7300\n",
            "mean_squared_error: 30.729955673217773\n"
          ],
          "name": "stdout"
        }
      ]
    },
    {
      "cell_type": "code",
      "metadata": {
        "id": "7HrKd75gVWVJ",
        "colab_type": "code",
        "colab": {
          "base_uri": "https://localhost:8080/",
          "height": 281
        },
        "outputId": "4cf80c1c-6aec-4b90-b0f4-7033690d53cd"
      },
      "source": [
        "import matplotlib.pyplot as plt\n",
        "\n",
        "fig, ((ax1,ax2)) = plt.subplots(1,2)\n",
        "ax1.plot(history.history['loss'], color = 'r')\n",
        "ax1.set_title(\"Loss\")\n",
        "ax2.plot(history.history['mean_squared_error'], color = 'g')\n",
        "ax2.set_title(\"MSE\");"
      ],
      "execution_count": 6,
      "outputs": [
        {
          "output_type": "display_data",
          "data": {
            "image/png": "[encoded data removed]",
            "text/plain": [
              "<Figure size 432x288 with 2 Axes>"
            ]
          },
          "metadata": {
            "tags": []
          }
        }
      ]
    },
    {
      "cell_type": "code",
      "metadata": {
        "id": "wxGtiX9-VWTP",
        "colab_type": "code",
        "colab": {
          "base_uri": "https://localhost:8080/",
          "height": 35
        },
        "outputId": "c604586d-a99e-4213-e8f0-43cebfe9a16f"
      },
      "source": [
        "# Linear Regression\n",
        "from sklearn.linear_model import LinearRegression\n",
        "from sklearn.metrics import mean_squared_error\n",
        "\n",
        "# Instantiate Model\n",
        "lr_model = LinearRegression()\n",
        "\n",
        "# Fit model\n",
        "lr_model.fit(x_train, y_train)\n",
        "\n",
        "# Predict\n",
        "y_pred = lr_model.predict(x_test)\n",
        "\n",
        "# Accuracy\n",
        "mse = mean_squared_error(y_test, y_pred)\n",
        "print(\"Linear Regression MSE:\", mse)"
      ],
      "execution_count": 7,
      "outputs": [
        {
          "output_type": "stream",
          "text": [
            "Linear Regression MSE: 18.165510493496484\n"
          ],
          "name": "stdout"
        }
      ]
    },
    {
      "cell_type": "markdown",
      "metadata": {
        "colab_type": "text",
        "id": "SfcFnOONyuNm"
      },
      "source": [
        "## Use the Keras Library to build an image recognition network using the Fashion-MNIST dataset (also comes with keras)\n",
        "\n",
        "- Load and preprocess the image data similar to how we preprocessed the MNIST data in class.\n",
        "- Make sure to one-hot encode your category labels\n",
        "- Make sure to have your final layer have as many nodes as the number of classes that you want to predict.\n",
        "- Try different hyperparameters. What is the highest accuracy that you are able to achieve.\n",
        "- Use the history object that is returned from model.fit to make graphs of the model's loss or train/validation accuracies by epoch. \n",
        "- Remember that neural networks fall prey to randomness so you may need to run your model multiple times (or use Cross Validation) in order to tell if a change to a hyperparameter is truly producing better results."
      ]
    },
    {
      "cell_type": "code",
      "metadata": {
        "colab_type": "code",
        "id": "szi6-IpuzaH1",
        "colab": {
          "base_uri": "https://localhost:8080/",
          "height": 35
        },
        "outputId": "ad01e50e-1860-40fb-f16e-7c393000b4a9"
      },
      "source": [
        "##### Your Code Here #####\n",
        "\n",
        "# Load bonston housing dataset\n",
        "from tensorflow.keras.datasets import fashion_mnist\n",
        "from tensorflow.keras.utils import to_categorical\n",
        "from tensorflow.keras.utils import normalize\n",
        "\n",
        "(x_train, y_train), (x_test, y_test) = fashion_mnist.load_data()\n",
        "print(x_train.shape, y_train.shape, x_test.shape, y_test.shape)"
      ],
      "execution_count": 16,
      "outputs": [
        {
          "output_type": "stream",
          "text": [
            "(60000, 28, 28) (60000,) (10000, 28, 28) (10000,)\n"
          ],
          "name": "stdout"
        }
      ]
    },
    {
      "cell_type": "code",
      "metadata": {
        "id": "pqVHXGWWVsWP",
        "colab_type": "code",
        "colab": {}
      },
      "source": [
        "# Hyper Parameters\n",
        "batch_size = 32\n",
        "num_classes = 10\n",
        "epochs = 100"
      ],
      "execution_count": 0,
      "outputs": []
    },
    {
      "cell_type": "code",
      "metadata": {
        "id": "y8Lwpf5pVu5P",
        "colab_type": "code",
        "colab": {}
      },
      "source": [
        "# Reshape the data (28*28 = 784)\n",
        "x_train = x_train.reshape(60000, 784)\n",
        "x_test = x_test.reshape(10000, 784)\n",
        "# X Variable Types\n",
        "x_train = x_train.astype('float32')\n",
        "x_test = x_test.astype('float32')\n",
        "# one-hot encode category labels for softmax\n",
        "y_train = to_categorical(y_train, num_classes)\n",
        "y_test = to_categorical(y_test, num_classes)"
      ],
      "execution_count": 0,
      "outputs": []
    },
    {
      "cell_type": "code",
      "metadata": {
        "id": "Arb7nrnXVu3h",
        "colab_type": "code",
        "colab": {
          "base_uri": "https://localhost:8080/",
          "height": 305
        },
        "outputId": "5b0d8f7c-818c-4457-f86c-536d13c5a99f"
      },
      "source": [
        "import numpy as np\n",
        "from tensorflow.keras.layers import Dense\n",
        "from tensorflow.keras.models import Sequential\n",
        "\n",
        "np.random.seed(812)\n",
        "\n",
        "model = Sequential()\n",
        "\n",
        "# Input Layer\n",
        "model.add(Dense(16, input_dim=784, kernel_initializer='normal', activation='relu'))\n",
        "\n",
        "# Hidden Layer\n",
        "model.add(Dense(16, activation='sigmoid'))\n",
        "model.add(Dense(16, activation='relu'))\n",
        "\n",
        "# Output Layer\n",
        "model.add(Dense(num_classes, kernel_initializer='normal', activation='softmax'))\n",
        "\n",
        "# Compile\n",
        "model.compile(loss='categorical_crossentropy', optimizer='adam', metrics=['accuracy'])\n",
        "model.summary()"
      ],
      "execution_count": 19,
      "outputs": [
        {
          "output_type": "stream",
          "text": [
            "Model: \"sequential_2\"\n",
            "_________________________________________________________________\n",
            "Layer (type)                 Output Shape              Param #   \n",
            "=================================================================\n",
            "dense_9 (Dense)              (None, 16)                12560     \n",
            "_________________________________________________________________\n",
            "dense_10 (Dense)             (None, 16)                272       \n",
            "_________________________________________________________________\n",
            "dense_11 (Dense)             (None, 16)                272       \n",
            "_________________________________________________________________\n",
            "dense_12 (Dense)             (None, 10)                170       \n",
            "=================================================================\n",
            "Total params: 13,274\n",
            "Trainable params: 13,274\n",
            "Non-trainable params: 0\n",
            "_________________________________________________________________\n"
          ],
          "name": "stdout"
        }
      ]
    },
    {
      "cell_type": "code",
      "metadata": {
        "id": "dt-FEoXDVu1s",
        "colab_type": "code",
        "colab": {
          "base_uri": "https://localhost:8080/",
          "height": 1000
        },
        "outputId": "2a9a0671-e13a-497a-fd8f-0afc7e8c1ce4"
      },
      "source": [
        "history = model.fit(x_train, y_train, batch_size=batch_size, epochs=epochs, validation_split=.1, verbose=1)\n",
        "# validation_split - reserve some data from dataset\n",
        "# verbose shows the print statements\n",
        "scores = model.evaluate(x_test, y_test)\n",
        "print(f'{model.metrics_names[1]}: {scores[1]*100}')"
      ],
      "execution_count": 20,
      "outputs": [
        {
          "output_type": "stream",
          "text": [
            "Train on 54000 samples, validate on 6000 samples\n",
            "Epoch 1/100\n",
            "54000/54000 [==============================] - 3s 56us/sample - loss: 1.2937 - acc: 0.4442 - val_loss: 0.9970 - val_acc: 0.5760\n",
            "Epoch 2/100\n",
            "54000/54000 [==============================] - 3s 54us/sample - loss: 0.9357 - acc: 0.6129 - val_loss: 0.8565 - val_acc: 0.6613\n",
            "Epoch 3/100\n",
            "54000/54000 [==============================] - 3s 55us/sample - loss: 0.8661 - acc: 0.6530 - val_loss: 0.8606 - val_acc: 0.6700\n",
            "Epoch 4/100\n",
            "54000/54000 [==============================] - 3s 54us/sample - loss: 0.7938 - acc: 0.6978 - val_loss: 0.7635 - val_acc: 0.7190\n",
            "Epoch 5/100\n",
            "54000/54000 [==============================] - 3s 53us/sample - loss: 0.7630 - acc: 0.7065 - val_loss: 0.7082 - val_acc: 0.7332\n",
            "Epoch 6/100\n",
            "54000/54000 [==============================] - 3s 53us/sample - loss: 0.7653 - acc: 0.7117 - val_loss: 0.7212 - val_acc: 0.7427\n",
            "Epoch 7/100\n",
            "54000/54000 [==============================] - 3s 53us/sample - loss: 0.7424 - acc: 0.7139 - val_loss: 0.7311 - val_acc: 0.7202\n",
            "Epoch 8/100\n",
            "54000/54000 [==============================] - 3s 54us/sample - loss: 0.7157 - acc: 0.7244 - val_loss: 0.7279 - val_acc: 0.7087\n",
            "Epoch 9/100\n",
            "54000/54000 [==============================] - 3s 55us/sample - loss: 0.7068 - acc: 0.7386 - val_loss: 0.6724 - val_acc: 0.7625\n",
            "Epoch 10/100\n",
            "54000/54000 [==============================] - 3s 64us/sample - loss: 0.6897 - acc: 0.7389 - val_loss: 0.6570 - val_acc: 0.7667\n",
            "Epoch 11/100\n",
            "54000/54000 [==============================] - 3s 64us/sample - loss: 0.6748 - acc: 0.7475 - val_loss: 0.6678 - val_acc: 0.7453\n",
            "Epoch 12/100\n",
            "54000/54000 [==============================] - 4s 68us/sample - loss: 0.6738 - acc: 0.7429 - val_loss: 0.6601 - val_acc: 0.7563\n",
            "Epoch 13/100\n",
            "54000/54000 [==============================] - 3s 64us/sample - loss: 0.6795 - acc: 0.7461 - val_loss: 0.7166 - val_acc: 0.7075\n",
            "Epoch 14/100\n",
            "54000/54000 [==============================] - 4s 65us/sample - loss: 0.6849 - acc: 0.7419 - val_loss: 0.6565 - val_acc: 0.7493\n",
            "Epoch 15/100\n",
            "54000/54000 [==============================] - 3s 62us/sample - loss: 0.6698 - acc: 0.7471 - val_loss: 0.6513 - val_acc: 0.7555\n",
            "Epoch 16/100\n",
            "54000/54000 [==============================] - 3s 61us/sample - loss: 0.6443 - acc: 0.7570 - val_loss: 0.6403 - val_acc: 0.7683\n",
            "Epoch 17/100\n",
            "54000/54000 [==============================] - 3s 61us/sample - loss: 0.6510 - acc: 0.7512 - val_loss: 0.6486 - val_acc: 0.7620\n",
            "Epoch 18/100\n",
            "54000/54000 [==============================] - 3s 64us/sample - loss: 0.6611 - acc: 0.7509 - val_loss: 0.6282 - val_acc: 0.7728\n",
            "Epoch 19/100\n",
            "54000/54000 [==============================] - 3s 56us/sample - loss: 0.6340 - acc: 0.7630 - val_loss: 0.6029 - val_acc: 0.7703\n",
            "Epoch 20/100\n",
            "54000/54000 [==============================] - 3s 57us/sample - loss: 0.6129 - acc: 0.7701 - val_loss: 0.6143 - val_acc: 0.7685\n",
            "Epoch 21/100\n",
            "54000/54000 [==============================] - 3s 56us/sample - loss: 0.6614 - acc: 0.7479 - val_loss: 0.7031 - val_acc: 0.7512\n",
            "Epoch 22/100\n",
            "54000/54000 [==============================] - 3s 55us/sample - loss: 0.6739 - acc: 0.7517 - val_loss: 0.6511 - val_acc: 0.7588\n",
            "Epoch 23/100\n",
            "54000/54000 [==============================] - 3s 54us/sample - loss: 0.6302 - acc: 0.7667 - val_loss: 0.6776 - val_acc: 0.7565\n",
            "Epoch 24/100\n",
            "54000/54000 [==============================] - 3s 53us/sample - loss: 0.6735 - acc: 0.7488 - val_loss: 0.7077 - val_acc: 0.7177\n",
            "Epoch 25/100\n",
            "54000/54000 [==============================] - 3s 55us/sample - loss: 0.6746 - acc: 0.7509 - val_loss: 0.6553 - val_acc: 0.7597\n",
            "Epoch 26/100\n",
            "54000/54000 [==============================] - 3s 54us/sample - loss: 0.6451 - acc: 0.7551 - val_loss: 0.6186 - val_acc: 0.7535\n",
            "Epoch 27/100\n",
            "54000/54000 [==============================] - 3s 54us/sample - loss: 0.6254 - acc: 0.7594 - val_loss: 0.6712 - val_acc: 0.7427\n",
            "Epoch 28/100\n",
            "54000/54000 [==============================] - 3s 53us/sample - loss: 0.6132 - acc: 0.7699 - val_loss: 0.6065 - val_acc: 0.7742\n",
            "Epoch 29/100\n",
            "54000/54000 [==============================] - 3s 53us/sample - loss: 0.6026 - acc: 0.7707 - val_loss: 0.6129 - val_acc: 0.7810\n",
            "Epoch 30/100\n",
            "54000/54000 [==============================] - 3s 54us/sample - loss: 0.6194 - acc: 0.7673 - val_loss: 0.6617 - val_acc: 0.7657\n",
            "Epoch 31/100\n",
            "54000/54000 [==============================] - 3s 53us/sample - loss: 0.6370 - acc: 0.7602 - val_loss: 0.6696 - val_acc: 0.7623\n",
            "Epoch 32/100\n",
            "54000/54000 [==============================] - 3s 54us/sample - loss: 0.6537 - acc: 0.7508 - val_loss: 0.6020 - val_acc: 0.7762\n",
            "Epoch 33/100\n",
            "54000/54000 [==============================] - 3s 53us/sample - loss: 0.5875 - acc: 0.7767 - val_loss: 0.5900 - val_acc: 0.7850\n",
            "Epoch 34/100\n",
            "54000/54000 [==============================] - 3s 53us/sample - loss: 0.5887 - acc: 0.7834 - val_loss: 0.5874 - val_acc: 0.7720\n",
            "Epoch 35/100\n",
            "54000/54000 [==============================] - 3s 53us/sample - loss: 0.5863 - acc: 0.7750 - val_loss: 0.5805 - val_acc: 0.7777\n",
            "Epoch 36/100\n",
            "54000/54000 [==============================] - 3s 53us/sample - loss: 0.5950 - acc: 0.7757 - val_loss: 0.6006 - val_acc: 0.7795\n",
            "Epoch 37/100\n",
            "54000/54000 [==============================] - 3s 53us/sample - loss: 0.5818 - acc: 0.7817 - val_loss: 0.5675 - val_acc: 0.8020\n",
            "Epoch 38/100\n",
            "54000/54000 [==============================] - 3s 54us/sample - loss: 0.6217 - acc: 0.7733 - val_loss: 0.5923 - val_acc: 0.7895\n",
            "Epoch 39/100\n",
            "54000/54000 [==============================] - 3s 55us/sample - loss: 0.5919 - acc: 0.7848 - val_loss: 0.6121 - val_acc: 0.7790\n",
            "Epoch 40/100\n",
            "54000/54000 [==============================] - 3s 53us/sample - loss: 0.6205 - acc: 0.7730 - val_loss: 0.6217 - val_acc: 0.7780\n",
            "Epoch 41/100\n",
            "54000/54000 [==============================] - 3s 54us/sample - loss: 0.5942 - acc: 0.7814 - val_loss: 0.5881 - val_acc: 0.7882\n",
            "Epoch 42/100\n",
            "54000/54000 [==============================] - 3s 54us/sample - loss: 0.5982 - acc: 0.7771 - val_loss: 0.5847 - val_acc: 0.7907\n",
            "Epoch 43/100\n",
            "54000/54000 [==============================] - 3s 54us/sample - loss: 0.5716 - acc: 0.7916 - val_loss: 0.5579 - val_acc: 0.7900\n",
            "Epoch 44/100\n",
            "54000/54000 [==============================] - 3s 54us/sample - loss: 0.5796 - acc: 0.7832 - val_loss: 0.5784 - val_acc: 0.7790\n",
            "Epoch 45/100\n",
            "54000/54000 [==============================] - 3s 52us/sample - loss: 0.6236 - acc: 0.7676 - val_loss: 0.7231 - val_acc: 0.7320\n",
            "Epoch 46/100\n",
            "54000/54000 [==============================] - 3s 54us/sample - loss: 0.6344 - acc: 0.7691 - val_loss: 0.6467 - val_acc: 0.7708\n",
            "Epoch 47/100\n",
            "54000/54000 [==============================] - 3s 53us/sample - loss: 0.6357 - acc: 0.7656 - val_loss: 0.6126 - val_acc: 0.7740\n",
            "Epoch 48/100\n",
            "54000/54000 [==============================] - 3s 53us/sample - loss: 0.6136 - acc: 0.7705 - val_loss: 0.6205 - val_acc: 0.7677\n",
            "Epoch 49/100\n",
            "54000/54000 [==============================] - 3s 54us/sample - loss: 0.6101 - acc: 0.7724 - val_loss: 0.5890 - val_acc: 0.7810\n",
            "Epoch 50/100\n",
            "54000/54000 [==============================] - 3s 53us/sample - loss: 0.5899 - acc: 0.7783 - val_loss: 0.6034 - val_acc: 0.7727\n",
            "Epoch 51/100\n",
            "54000/54000 [==============================] - 3s 53us/sample - loss: 0.6007 - acc: 0.7763 - val_loss: 0.6034 - val_acc: 0.7698\n",
            "Epoch 52/100\n",
            "54000/54000 [==============================] - 3s 53us/sample - loss: 0.5795 - acc: 0.7786 - val_loss: 0.6088 - val_acc: 0.7693\n",
            "Epoch 53/100\n",
            "54000/54000 [==============================] - 3s 53us/sample - loss: 0.5785 - acc: 0.7861 - val_loss: 0.5740 - val_acc: 0.7863\n",
            "Epoch 54/100\n",
            "54000/54000 [==============================] - 3s 52us/sample - loss: 0.5766 - acc: 0.7931 - val_loss: 0.5880 - val_acc: 0.7933\n",
            "Epoch 55/100\n",
            "54000/54000 [==============================] - 3s 52us/sample - loss: 0.5603 - acc: 0.8016 - val_loss: 0.5805 - val_acc: 0.7733\n",
            "Epoch 56/100\n",
            "54000/54000 [==============================] - 3s 53us/sample - loss: 0.5864 - acc: 0.7858 - val_loss: 0.6457 - val_acc: 0.7485\n",
            "Epoch 57/100\n",
            "54000/54000 [==============================] - 3s 53us/sample - loss: 0.6273 - acc: 0.7761 - val_loss: 0.5796 - val_acc: 0.7882\n",
            "Epoch 58/100\n",
            "54000/54000 [==============================] - 3s 53us/sample - loss: 0.5633 - acc: 0.7934 - val_loss: 0.5690 - val_acc: 0.7907\n",
            "Epoch 59/100\n",
            "54000/54000 [==============================] - 3s 53us/sample - loss: 0.5869 - acc: 0.7844 - val_loss: 0.6139 - val_acc: 0.7680\n",
            "Epoch 60/100\n",
            "54000/54000 [==============================] - 3s 54us/sample - loss: 0.5766 - acc: 0.7889 - val_loss: 0.5938 - val_acc: 0.7832\n",
            "Epoch 61/100\n",
            "54000/54000 [==============================] - 3s 53us/sample - loss: 0.5976 - acc: 0.7859 - val_loss: 0.5736 - val_acc: 0.7943\n",
            "Epoch 62/100\n",
            "54000/54000 [==============================] - 3s 53us/sample - loss: 0.5887 - acc: 0.7831 - val_loss: 0.5854 - val_acc: 0.7795\n",
            "Epoch 63/100\n",
            "54000/54000 [==============================] - 3s 52us/sample - loss: 0.5652 - acc: 0.7939 - val_loss: 0.5619 - val_acc: 0.7955\n",
            "Epoch 64/100\n",
            "54000/54000 [==============================] - 3s 53us/sample - loss: 0.5634 - acc: 0.7961 - val_loss: 0.6213 - val_acc: 0.7737\n",
            "Epoch 65/100\n",
            "54000/54000 [==============================] - 3s 52us/sample - loss: 0.5731 - acc: 0.7908 - val_loss: 0.5803 - val_acc: 0.7810\n",
            "Epoch 66/100\n",
            "54000/54000 [==============================] - 3s 52us/sample - loss: 0.5818 - acc: 0.7866 - val_loss: 0.5921 - val_acc: 0.7842\n",
            "Epoch 67/100\n",
            "54000/54000 [==============================] - 3s 53us/sample - loss: 0.5803 - acc: 0.7904 - val_loss: 0.6020 - val_acc: 0.7802\n",
            "Epoch 68/100\n",
            "54000/54000 [==============================] - 3s 54us/sample - loss: 0.5831 - acc: 0.7920 - val_loss: 0.6352 - val_acc: 0.7627\n",
            "Epoch 69/100\n",
            "54000/54000 [==============================] - 3s 54us/sample - loss: 0.6014 - acc: 0.7778 - val_loss: 0.5896 - val_acc: 0.7828\n",
            "Epoch 70/100\n",
            "54000/54000 [==============================] - 3s 54us/sample - loss: 0.6046 - acc: 0.7720 - val_loss: 0.5963 - val_acc: 0.7808\n",
            "Epoch 71/100\n",
            "54000/54000 [==============================] - 3s 54us/sample - loss: 0.5762 - acc: 0.7889 - val_loss: 0.5708 - val_acc: 0.8060\n",
            "Epoch 72/100\n",
            "54000/54000 [==============================] - 3s 53us/sample - loss: 0.5866 - acc: 0.7911 - val_loss: 0.6390 - val_acc: 0.7737\n",
            "Epoch 73/100\n",
            "54000/54000 [==============================] - 3s 54us/sample - loss: 0.6079 - acc: 0.7749 - val_loss: 0.6352 - val_acc: 0.7697\n",
            "Epoch 74/100\n",
            "54000/54000 [==============================] - 3s 57us/sample - loss: 0.5745 - acc: 0.7977 - val_loss: 0.5527 - val_acc: 0.8050\n",
            "Epoch 75/100\n",
            "54000/54000 [==============================] - 3s 52us/sample - loss: 0.5622 - acc: 0.8033 - val_loss: 0.5657 - val_acc: 0.8003\n",
            "Epoch 76/100\n",
            "54000/54000 [==============================] - 3s 54us/sample - loss: 0.6016 - acc: 0.7814 - val_loss: 0.6923 - val_acc: 0.7067\n",
            "Epoch 77/100\n",
            "54000/54000 [==============================] - 3s 53us/sample - loss: 0.5864 - acc: 0.7889 - val_loss: 0.5796 - val_acc: 0.7865\n",
            "Epoch 78/100\n",
            "54000/54000 [==============================] - 3s 55us/sample - loss: 0.5900 - acc: 0.7910 - val_loss: 0.5998 - val_acc: 0.7898\n",
            "Epoch 79/100\n",
            "54000/54000 [==============================] - 3s 57us/sample - loss: 0.5720 - acc: 0.7929 - val_loss: 0.5796 - val_acc: 0.7870\n",
            "Epoch 80/100\n",
            "54000/54000 [==============================] - 3s 55us/sample - loss: 0.5797 - acc: 0.7869 - val_loss: 0.5876 - val_acc: 0.7848\n",
            "Epoch 81/100\n",
            "54000/54000 [==============================] - 3s 55us/sample - loss: 0.5696 - acc: 0.7938 - val_loss: 0.5737 - val_acc: 0.8010\n",
            "Epoch 82/100\n",
            "54000/54000 [==============================] - 3s 53us/sample - loss: 0.5597 - acc: 0.7998 - val_loss: 0.5733 - val_acc: 0.8042\n",
            "Epoch 83/100\n",
            "54000/54000 [==============================] - 3s 54us/sample - loss: 0.5671 - acc: 0.7951 - val_loss: 0.5723 - val_acc: 0.7967\n",
            "Epoch 84/100\n",
            "54000/54000 [==============================] - 3s 54us/sample - loss: 0.5852 - acc: 0.7961 - val_loss: 0.5743 - val_acc: 0.8048\n",
            "Epoch 85/100\n",
            "54000/54000 [==============================] - 3s 53us/sample - loss: 0.5843 - acc: 0.7941 - val_loss: 0.6075 - val_acc: 0.7875\n",
            "Epoch 86/100\n",
            "54000/54000 [==============================] - 3s 55us/sample - loss: 0.6022 - acc: 0.7835 - val_loss: 0.6001 - val_acc: 0.7822\n",
            "Epoch 87/100\n",
            "54000/54000 [==============================] - 3s 57us/sample - loss: 0.5812 - acc: 0.7918 - val_loss: 0.5837 - val_acc: 0.8040\n",
            "Epoch 88/100\n",
            "54000/54000 [==============================] - 3s 58us/sample - loss: 0.5499 - acc: 0.8076 - val_loss: 0.5578 - val_acc: 0.7985\n",
            "Epoch 89/100\n",
            "54000/54000 [==============================] - 3s 58us/sample - loss: 0.5688 - acc: 0.7991 - val_loss: 0.5932 - val_acc: 0.7960\n",
            "Epoch 90/100\n",
            "54000/54000 [==============================] - 3s 55us/sample - loss: 0.5634 - acc: 0.8080 - val_loss: 0.5547 - val_acc: 0.8095\n",
            "Epoch 91/100\n",
            "54000/54000 [==============================] - 3s 55us/sample - loss: 0.5798 - acc: 0.8016 - val_loss: 0.6103 - val_acc: 0.7883\n",
            "Epoch 92/100\n",
            "54000/54000 [==============================] - 3s 57us/sample - loss: 0.5940 - acc: 0.7827 - val_loss: 0.5749 - val_acc: 0.7972\n",
            "Epoch 93/100\n",
            "54000/54000 [==============================] - 3s 56us/sample - loss: 0.5725 - acc: 0.7921 - val_loss: 0.5678 - val_acc: 0.7912\n",
            "Epoch 94/100\n",
            "54000/54000 [==============================] - 3s 54us/sample - loss: 0.5585 - acc: 0.7977 - val_loss: 0.5737 - val_acc: 0.7980\n",
            "Epoch 95/100\n",
            "54000/54000 [==============================] - 3s 56us/sample - loss: 0.5538 - acc: 0.8012 - val_loss: 0.5496 - val_acc: 0.8048\n",
            "Epoch 96/100\n",
            "54000/54000 [==============================] - 3s 56us/sample - loss: 0.5500 - acc: 0.8053 - val_loss: 0.5562 - val_acc: 0.8078\n",
            "Epoch 97/100\n",
            "54000/54000 [==============================] - 3s 56us/sample - loss: 0.5567 - acc: 0.8024 - val_loss: 0.5675 - val_acc: 0.8022\n",
            "Epoch 98/100\n",
            "54000/54000 [==============================] - 3s 56us/sample - loss: 0.5710 - acc: 0.7922 - val_loss: 0.6074 - val_acc: 0.7790\n",
            "Epoch 99/100\n",
            "54000/54000 [==============================] - 3s 54us/sample - loss: 0.5722 - acc: 0.8022 - val_loss: 0.5796 - val_acc: 0.8020\n",
            "Epoch 100/100\n",
            "54000/54000 [==============================] - 3s 54us/sample - loss: 0.5599 - acc: 0.8035 - val_loss: 0.5583 - val_acc: 0.8037\n",
            "10000/10000 [==============================] - 0s 27us/sample - loss: 0.5829 - acc: 0.7965\n",
            "acc: 79.6500027179718\n"
          ],
          "name": "stdout"
        }
      ]
    },
    {
      "cell_type": "markdown",
      "metadata": {
        "colab_type": "text",
        "id": "zv_3xNMjzdLI"
      },
      "source": [
        "## Stretch Goals:\n",
        "\n",
        "- Use Hyperparameter Tuning to make the accuracy of your models as high as possible. (error as low as possible)\n",
        "- Use Cross Validation techniques to get more consistent results with your model.\n",
        "- Use GridSearchCV to try different combinations of hyperparameters. \n",
        "- Start looking into other types of Keras layers for CNNs and RNNs maybe try and build a CNN model for fashion-MNIST to see how the results compare."
      ]
    }
  ]
}