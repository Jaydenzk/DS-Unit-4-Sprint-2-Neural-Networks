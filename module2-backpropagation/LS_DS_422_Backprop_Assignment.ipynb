{
  "nbformat": 4,
  "nbformat_minor": 0,
  "metadata": {
    "colab": {
      "name": "LS_DS_432_Backprop_Assignment.ipynb",
      "provenance": [],
      "include_colab_link": true
    },
    "kernelspec": {
      "display_name": "Python 3",
      "language": "python",
      "name": "python3"
    },
    "language_info": {
      "codemirror_mode": {
        "name": "ipython",
        "version": 3
      },
      "file_extension": ".py",
      "mimetype": "text/x-python",
      "name": "python",
      "nbconvert_exporter": "python",
      "pygments_lexer": "ipython3",
      "version": "3.7.3"
    }
  },
  "cells": [
    {
      "cell_type": "markdown",
      "metadata": {
        "id": "view-in-github",
        "colab_type": "text"
      },
      "source": [
        "<a href=\"https://colab.research.google.com/github/Jaydenzk/DS-Unit-4-Sprint-2-Neural-Networks/blob/master/module2-backpropagation/LS_DS_422_Backprop_Assignment.ipynb\" target=\"_parent\"><img src=\"https://colab.research.google.com/assets/colab-badge.svg\" alt=\"Open In Colab\"/></a>"
      ]
    },
    {
      "cell_type": "markdown",
      "metadata": {
        "colab_type": "text",
        "id": "NGGrt9EYlCqY"
      },
      "source": [
        "<img align=\"left\" src=\"https://lever-client-logos.s3.amazonaws.com/864372b1-534c-480e-acd5-9711f850815c-1524247202159.png\" width=200>\n",
        "<br></br>\n",
        "\n",
        "# Backpropagation Practice\n",
        "\n",
        "## *Data Science Unit 4 Sprint 2 Assignment 2*\n",
        "\n",
        "Implement a 3 input, 4 node hidden-layer, 1 output node Multilayer Perceptron on the following dataset:\n",
        "\n",
        "| x1 | x2 | x3 | y |\n",
        "|----|----|----|---|\n",
        "| 0  | 0  | 1  | 0 |\n",
        "| 0  | 1  | 1  | 1 |\n",
        "| 1  | 0  | 1  | 1 |\n",
        "| 0  | 1  | 0  | 1 |\n",
        "| 1  | 0  | 0  | 1 |\n",
        "| 1  | 1  | 1  | 0 |\n",
        "| 0  | 0  | 0  | 0 |\n",
        "\n",
        "If you look at the data you'll notice that the first two columns behave like an XOR gate while the last column is mostly just noise. Remember that creating an XOR gate was what the perceptron was criticized for not being able to learn. "
      ]
    },
    {
      "cell_type": "code",
      "metadata": {
        "colab_type": "code",
        "id": "nEREYT-3wI1f",
        "colab": {
          "base_uri": "https://localhost:8080/",
          "height": 305
        },
        "outputId": "03dea714-afb6-4b28-e0ca-133b63f54b4e"
      },
      "source": [
        "##### Your Code Here #####\n",
        "import numpy as np\n",
        "\n",
        "np.random.seed(42)\n",
        "# 3 input nodes\n",
        "X = np.array(([0,0,1], [0,1,1], [1,0,1], [0,1,0], [1,0,0], [1,1,1], [0,0,0]), dtype=float)\n",
        "# 1 output node\n",
        "y = np.array(([0], [1], [1], [1], [1], [0], [0]), dtype=float)\n",
        "\n",
        "print(\"3 inputs \\n\", X)\n",
        "print(\"1 output \\n\", y)\n"
      ],
      "execution_count": 7,
      "outputs": [
        {
          "output_type": "stream",
          "text": [
            "3 inputs \n",
            " [[0. 0. 1.]\n",
            " [0. 1. 1.]\n",
            " [1. 0. 1.]\n",
            " [0. 1. 0.]\n",
            " [1. 0. 0.]\n",
            " [1. 1. 1.]\n",
            " [0. 0. 0.]]\n",
            "1 output \n",
            " [[0.]\n",
            " [1.]\n",
            " [1.]\n",
            " [1.]\n",
            " [1.]\n",
            " [0.]\n",
            " [0.]]\n"
          ],
          "name": "stdout"
        }
      ]
    },
    {
      "cell_type": "code",
      "metadata": {
        "id": "8Ys4TdKN_IyU",
        "colab_type": "code",
        "colab": {}
      },
      "source": [
        "class NeuralNetwork:\n",
        "    def __init__(self):\n",
        "        # Set up Architecture of Neural Network\n",
        "        self.inputs = 3\n",
        "        self.hiddenNodes = 4\n",
        "        self.outputNodes = 1\n",
        "        \n",
        "        # Initial Weights\n",
        "        # 3x4 Matrix Array for the First Layer\n",
        "        self.weights1 = np.random.randn(self.inputs, self.hiddenNodes)\n",
        "        # 4x1 Matrix Array for Hidden to Output\n",
        "        self.weights2 = np.random.rand(self.hiddenNodes, self.outputNodes)\n",
        "        \n",
        "    def sigmoid(self, s):\n",
        "        return 1 / (1 + np.exp(-s))\n",
        "    \n",
        "    def sigmoidPrime(self, s):\n",
        "        return s * (1 - s)\n",
        "    \n",
        "    def feed_forward(self, X):\n",
        "        \"\"\"\n",
        "        Calculate the NN inference using feed forward.\n",
        "        aka \"predict\"\n",
        "        \"\"\"\n",
        "        \n",
        "        # Weighted sum of inputs => hidden layer\n",
        "        self.hidden_sum = np.dot(X, self.weights1)\n",
        "        \n",
        "        # Activations of weighted sum\n",
        "        self.activated_hidden = self.sigmoid(self.hidden_sum)\n",
        "        \n",
        "        # Weight sum between hidden and output\n",
        "        self.output_sum = np.dot(self.activated_hidden, self.weights2)\n",
        "        \n",
        "        # Final activation of output\n",
        "        self.activated_output = self.sigmoid(self.output_sum)\n",
        "        \n",
        "        return self.activated_output\n",
        "    def backward(self, X, y, o):\n",
        "        \"\"\"\n",
        "        Backward propagate through the network\n",
        "        \"\"\"\n",
        "        \n",
        "        # Error in output\n",
        "        self.o_error = y - o\n",
        "        \n",
        "        # Apply derivative of sigmoid to error\n",
        "        # How far off are we in relation to the Sigmoid f(x) of the output\n",
        "        # ^- hidden => output\n",
        "        self.o_delta = self.o_error * self.sigmoidPrime(o)\n",
        "        \n",
        "        # z2 error\n",
        "        self.z2_error = self.o_delta.dot(self.weights2.T)\n",
        "        # How much of that \"far off\" can be explained by the inputs => hidden layer\n",
        "        self.z2_delta = self.z2_error * self.sigmoidPrime(self.activated_hidden)\n",
        "        \n",
        "        # Adjustment to first set of weights (input => hidden)\n",
        "        self.weights1 += X.T.dot(self.z2_delta)\n",
        "        \n",
        "        # Adjustment to second set of weights (hidden => output)\n",
        "        self.weights2 += self.activated_hidden.T.dot(self.o_delta)\n",
        "        \n",
        "    def train(self, X, y):\n",
        "        o = self.feed_forward(X)\n",
        "        self.backward(X, y, o)"
      ],
      "execution_count": 0,
      "outputs": []
    },
    {
      "cell_type": "code",
      "metadata": {
        "id": "AsVqlmPm_IwZ",
        "colab_type": "code",
        "colab": {
          "base_uri": "https://localhost:8080/",
          "height": 1000
        },
        "outputId": "a0c07c87-1f73-4c81-d447-8b85c8dffc55"
      },
      "source": [
        "attributes = ['weights', 'hidden_sum', 'activated_hidden', 'weights2', 'output+']\n",
        "[print(i+'\\n', getattr(nn,i), '\\n'+'---'*3) for i in dir(nn) if i[:2]!='__']"
      ],
      "execution_count": 11,
      "outputs": [
        {
          "output_type": "stream",
          "text": [
            "activated_hidden\n",
            " [[0.50628183 0.68379926 0.42914945 0.46854811]\n",
            " [0.11206236 0.99151089 0.9834952  0.98203528]\n",
            " [0.98949971 0.14351379 0.98215185 0.98197551]\n",
            " [0.10958622 0.98182131 0.98754111 0.98412787]\n",
            " [0.98923538 0.07191128 0.98652255 0.98407495]\n",
            " [0.92062153 0.90049638 0.99977079 0.99970405]\n",
            " [0.5        0.5        0.5        0.5       ]] \n",
            "---------\n",
            "activated_output\n",
            " [[0.02969411]\n",
            " [0.91491324]\n",
            " [0.90452497]\n",
            " [0.92326236]\n",
            " [0.94066262]\n",
            " [0.09990983]\n",
            " [0.15520948]] \n",
            "---------\n",
            "backward\n",
            " <bound method NeuralNetwork.backward of <__main__.NeuralNetwork object at 0x7f4424386898>> \n",
            "---------\n",
            "feed_forward\n",
            " <bound method NeuralNetwork.feed_forward of <__main__.NeuralNetwork object at 0x7f4424386898>> \n",
            "---------\n",
            "hiddenNodes\n",
            " 4 \n",
            "---------\n",
            "hidden_sum\n",
            " [[ 0.02512864  0.77128711 -0.28532222 -0.12597388]\n",
            " [-2.069846    4.76044628  4.08746149  4.00121726]\n",
            " [ 4.54579648 -1.7864071   4.00784586  3.99783515]\n",
            " [-2.09497464  3.98915917  4.37278371  4.12719114]\n",
            " [ 4.52066784 -2.55769421  4.29316807  4.12380904]\n",
            " [ 2.45082184  2.20275207  8.38062956  8.1250263 ]\n",
            " [ 0.          0.          0.          0.        ]] \n",
            "---------\n",
            "inputs\n",
            " 3 \n",
            "---------\n",
            "o_delta\n",
            " [[-0.00086155]\n",
            " [ 0.00665679]\n",
            " [ 0.00828968]\n",
            " [ 0.00546649]\n",
            " [ 0.00332417]\n",
            " [-0.00904952]\n",
            " [-0.02041782]] \n",
            "---------\n",
            "o_error\n",
            " [[-0.02979958]\n",
            " [ 0.08530911]\n",
            " [ 0.09574671]\n",
            " [ 0.07695609]\n",
            " [ 0.05944986]\n",
            " [-0.10029094]\n",
            " [-0.15548992]] \n",
            "---------\n",
            "outputNodes\n",
            " 1 \n",
            "---------\n",
            "output_sum\n",
            " [[-3.48666257]\n",
            " [ 2.37515781]\n",
            " [ 2.2485452 ]\n",
            " [ 2.48752115]\n",
            " [ 2.76334512]\n",
            " [-2.19822683]\n",
            " [-1.694313  ]] \n",
            "---------\n",
            "sigmoid\n",
            " <bound method NeuralNetwork.sigmoid of <__main__.NeuralNetwork object at 0x7f4424386898>> \n",
            "---------\n",
            "sigmoidPrime\n",
            " <bound method NeuralNetwork.sigmoidPrime of <__main__.NeuralNetwork object at 0x7f4424386898>> \n",
            "---------\n",
            "train\n",
            " <bound method NeuralNetwork.train of <__main__.NeuralNetwork object at 0x7f4424386898>> \n",
            "---------\n",
            "weights1\n",
            " [[ 4.52066784 -2.55769421  4.29316807  4.12380904]\n",
            " [-2.09497464  3.98915917  4.37278371  4.12719114]\n",
            " [ 0.02512864  0.77128711 -0.28532222 -0.12597388]] \n",
            "---------\n",
            "weights2\n",
            " [[-6.61960536]\n",
            " [-6.70869294]\n",
            " [ 5.20556037]\n",
            " [ 4.73411193]] \n",
            "---------\n",
            "z2_delta\n",
            " [[ 1.42425277e-03  1.24843637e-03 -1.09788071e-03 -1.01483555e-03]\n",
            " [-4.38985396e-03 -3.77012160e-04  5.62691533e-04  5.56166726e-04]\n",
            " [-5.72082385e-04 -6.84688757e-03  7.56766897e-04  6.94841257e-04]\n",
            " [-3.53743940e-03 -6.56788944e-04  3.50171063e-04  4.04292310e-04]\n",
            " [-2.34924327e-04 -1.49082333e-03  2.30126298e-04  2.46652093e-04]\n",
            " [ 4.37675503e-03  5.43955094e-03 -1.08100415e-05 -1.26919301e-05]\n",
            " [ 3.37581516e-02  3.42159042e-02 -2.65524553e-02 -2.41463324e-02]] \n",
            "---------\n",
            "z2_error\n",
            " [[ 0.00569785  0.00577511 -0.00448164 -0.00407553]\n",
            " [-0.04402451 -0.04462147  0.03462745  0.03148959]\n",
            " [-0.05482355 -0.05556694  0.04312143  0.03921386]\n",
            " [-0.03615245 -0.03664267  0.02843569  0.02585891]\n",
            " [-0.02198431 -0.02228242  0.01729175  0.01572481]\n",
            " [ 0.05984872  0.06066025 -0.04707397 -0.04280824]\n",
            " [ 0.13503261  0.13686362 -0.10620982 -0.09658533]] \n",
            "---------\n"
          ],
          "name": "stdout"
        },
        {
          "output_type": "execute_result",
          "data": {
            "text/plain": [
              "[None,\n",
              " None,\n",
              " None,\n",
              " None,\n",
              " None,\n",
              " None,\n",
              " None,\n",
              " None,\n",
              " None,\n",
              " None,\n",
              " None,\n",
              " None,\n",
              " None,\n",
              " None,\n",
              " None,\n",
              " None,\n",
              " None,\n",
              " None]"
            ]
          },
          "metadata": {
            "tags": []
          },
          "execution_count": 11
        }
      ]
    },
    {
      "cell_type": "code",
      "metadata": {
        "id": "ZxbZsRQm_Iue",
        "colab_type": "code",
        "colab": {
          "base_uri": "https://localhost:8080/",
          "height": 1000
        },
        "outputId": "5c146248-a28d-406c-f4a1-21590f43aeb4"
      },
      "source": [
        "# Train the NN\n",
        "nn = NeuralNetwork()\n",
        "\n",
        "# number of epochs / iterations\n",
        "for i in range(1000):\n",
        "    if (i+1 in [1,2,3]) or ((i+1) % 50 ==0):\n",
        "        print('+' + '---' * 3 + f'EPOCH {i+1}' + '---'*3 + '+')\n",
        "#         print('Input: \\n', X)\n",
        "#         print('Actual Output: \\n', y)\n",
        "#         print('Predicted Output: \\n', str(nn.feed_forward(X)))\n",
        "        loss = np.mean(np.square(y - nn.feed_forward(X)))\n",
        "        if loss < .01:\n",
        "            print('Input: \\n', X)\n",
        "            print('Actual Output: \\n', y)\n",
        "            print('Predicted Output: \\n', str(nn.feed_forward(X)))\n",
        "            print(\"Loss: \\n\", str(loss))\n",
        "            break\n",
        "        print(\"Loss: \\n\", str(loss))\n",
        "    nn.train(X,y)"
      ],
      "execution_count": 10,
      "outputs": [
        {
          "output_type": "stream",
          "text": [
            "+---------EPOCH 1---------+\n",
            "Loss: \n",
            " 0.2561291968116666\n",
            "+---------EPOCH 2---------+\n",
            "Loss: \n",
            " 0.2466265808421276\n",
            "+---------EPOCH 3---------+\n",
            "Loss: \n",
            " 0.24289794519365643\n",
            "+---------EPOCH 50---------+\n",
            "Loss: \n",
            " 0.20281930763902123\n",
            "+---------EPOCH 100---------+\n",
            "Loss: \n",
            " 0.1553469025730411\n",
            "+---------EPOCH 150---------+\n",
            "Loss: \n",
            " 0.12041913432654865\n",
            "+---------EPOCH 200---------+\n",
            "Loss: \n",
            " 0.08156330551821807\n",
            "+---------EPOCH 250---------+\n",
            "Loss: \n",
            " 0.035407244157710314\n",
            "+---------EPOCH 300---------+\n",
            "Loss: \n",
            " 0.017704995669713793\n",
            "+---------EPOCH 350---------+\n",
            "Loss: \n",
            " 0.011616157918231248\n",
            "+---------EPOCH 400---------+\n",
            "Input: \n",
            " [[0. 0. 1.]\n",
            " [0. 1. 1.]\n",
            " [1. 0. 1.]\n",
            " [0. 1. 0.]\n",
            " [1. 0. 0.]\n",
            " [1. 1. 1.]\n",
            " [0. 0. 0.]]\n",
            "Actual Output: \n",
            " [[0.]\n",
            " [1.]\n",
            " [1.]\n",
            " [1.]\n",
            " [1.]\n",
            " [0.]\n",
            " [0.]]\n",
            "Predicted Output: \n",
            " [[0.02969411]\n",
            " [0.91491324]\n",
            " [0.90452497]\n",
            " [0.92326236]\n",
            " [0.94066262]\n",
            " [0.09990983]\n",
            " [0.15520948]]\n",
            "Loss: \n",
            " 0.008674074935548483\n"
          ],
          "name": "stdout"
        }
      ]
    },
    {
      "cell_type": "markdown",
      "metadata": {
        "colab_type": "text",
        "id": "8b-r70o8p2Dm"
      },
      "source": [
        "## Try building/training a more complex MLP on a bigger dataset.\n",
        "\n",
        "Use the [MNIST dataset](http://yann.lecun.com/exdb/mnist/) to build the cannonical handwriting digit recognizer and see what kind of accuracy you can achieve. \n",
        "\n",
        "If you need inspiration, the internet is chalk-full of tutorials, but I want you to see how far you can get on your own first. I've linked to the original MNIST dataset above but it will probably be easier to download data through a neural network library. If you reference outside resources make sure you understand every line of code that you're using from other sources, and share with your fellow students helpful resources that you find.\n",
        "\n",
        "\n",
        "### Parts\n",
        "1. Gathering & Transforming the Data\n",
        "2. Making MNIST a Binary Problem\n",
        "3. Estimating your Neural Network (the part you focus on)"
      ]
    },
    {
      "cell_type": "markdown",
      "metadata": {
        "id": "9De8Pgko-jp3",
        "colab_type": "text"
      },
      "source": [
        "### Gathering the Data \n",
        "\n",
        "`keras` has a handy method to pull the mnist dataset for you. You'll notice that each observation is a 28x28 arrary which represents an image. Although most Neural Network frameworks can handle higher dimensional data, that is more overhead than necessary for us. We need to flatten the image to one long row which will be 784 values (28X28). Basically, you will be appending each row to one another to make on really long row. "
      ]
    },
    {
      "cell_type": "code",
      "metadata": {
        "id": "0-GnPGiW-jp4",
        "colab_type": "code",
        "colab": {}
      },
      "source": [
        "import numpy as np\n",
        "from tensorflow.keras.datasets import mnist\n",
        "from tensorflow.keras.utils import to_categorical"
      ],
      "execution_count": 0,
      "outputs": []
    },
    {
      "cell_type": "code",
      "metadata": {
        "id": "WnHSt4Vp-jp6",
        "colab_type": "code",
        "colab": {}
      },
      "source": [
        "# input image dimensions\n",
        "img_rows, img_cols = 28, 28"
      ],
      "execution_count": 0,
      "outputs": []
    },
    {
      "cell_type": "code",
      "metadata": {
        "id": "r1ca0rJ8-jp7",
        "colab_type": "code",
        "colab": {
          "base_uri": "https://localhost:8080/",
          "height": 53
        },
        "outputId": "1d205e39-aa93-43f7-dad4-33600604b08a"
      },
      "source": [
        "# the data, split between train and test sets\n",
        "(x_train, y_train), (x_test, y_test) = mnist.load_data()"
      ],
      "execution_count": 4,
      "outputs": [
        {
          "output_type": "stream",
          "text": [
            "Downloading data from https://storage.googleapis.com/tensorflow/tf-keras-datasets/mnist.npz\n",
            "11493376/11490434 [==============================] - 0s 0us/step\n"
          ],
          "name": "stdout"
        }
      ]
    },
    {
      "cell_type": "code",
      "metadata": {
        "id": "2ofvgef0-jp9",
        "colab_type": "code",
        "colab": {}
      },
      "source": [
        "x_train = x_train.reshape(x_train.shape[0], img_rows * img_cols)\n",
        "x_test = x_test.reshape(x_test.shape[0], img_rows * img_cols)\n",
        "\n",
        "# Normalize Our Data\n",
        "x_train = x_train / 255\n",
        "x_test = x_test / 255"
      ],
      "execution_count": 0,
      "outputs": []
    },
    {
      "cell_type": "code",
      "metadata": {
        "id": "1ktmO2rq-jp_",
        "colab_type": "code",
        "colab": {
          "base_uri": "https://localhost:8080/",
          "height": 35
        },
        "outputId": "a1a199e0-5d0c-4429-c3ee-f6fb52e3775b"
      },
      "source": [
        "# Now the data should be in a format you're more familiar with\n",
        "x_train.shape"
      ],
      "execution_count": 6,
      "outputs": [
        {
          "output_type": "execute_result",
          "data": {
            "text/plain": [
              "(60000, 784)"
            ]
          },
          "metadata": {
            "tags": []
          },
          "execution_count": 6
        }
      ]
    },
    {
      "cell_type": "markdown",
      "metadata": {
        "id": "Lt1r3O4m-jqB",
        "colab_type": "text"
      },
      "source": [
        "### Making MNIST a Binary Problem \n",
        "MNIST is multiclass classification problem; however we haven't covered all the necessary techniques to handle this yet. You would need to one-hot encode the target, use a different loss metric, and use softmax activations for the last layer. This is all stuff we'll cover later this week, but let us simply the problem for now: Zero or all else."
      ]
    },
    {
      "cell_type": "code",
      "metadata": {
        "id": "1-CbZ9SCCdYn",
        "colab_type": "code",
        "colab": {}
      },
      "source": [
        "class Neural_Network(object):\n",
        "    def __init__(self):        \n",
        "        #Define Hyperparameters\n",
        "        self.inputLayerSize = 3\n",
        "        self.outputLayerSize = 1\n",
        "        self.hiddenLayerSize = 4\n",
        "        \n",
        "        #Weights (parameters)\n",
        "        self.W1 = np.random.randn(self.inputLayerSize,self.hiddenLayerSize)\n",
        "        self.W2 = np.random.randn(self.hiddenLayerSize,self.outputLayerSize)\n",
        "        \n",
        "    def forward(self, X):\n",
        "        #Propogate inputs though network\n",
        "        self.z2 = np.dot(X, self.W1)\n",
        "        self.a2 = self.sigmoid(self.z2)\n",
        "        self.z3 = np.dot(self.a2, self.W2)\n",
        "        yHat = self.sigmoid(self.z3) \n",
        "        return yHat\n",
        "        \n",
        "    def sigmoid(self, z):\n",
        "        #Apply sigmoid activation function to scalar, vector, or matrix\n",
        "        return 1/(1+np.exp(-z))\n",
        "    \n",
        "    def sigmoidPrime(self,z):\n",
        "        #Gradient of sigmoid\n",
        "        return np.exp(-z)/((1+np.exp(-z))**2)\n",
        "    \n",
        "    def costFunction(self, X, y):\n",
        "        #Compute cost for given X,y, use weights already stored in class.\n",
        "        self.yHat = self.forward(X)\n",
        "        J = 0.5*sum((y-self.yHat)**2)\n",
        "        return J\n",
        "        \n",
        "    def costFunctionPrime(self, X, y):\n",
        "        #Compute derivative with respect to W and W2 for a given X and y:\n",
        "        self.yHat = self.forward(X)\n",
        "        \n",
        "        delta3 = np.multiply(-(y-self.yHat), self.sigmoidPrime(self.z3))\n",
        "        dJdW2 = np.dot(self.a2.T, delta3)\n",
        "        \n",
        "        delta2 = np.dot(delta3, self.W2.T)*self.sigmoidPrime(self.z2)\n",
        "        dJdW1 = np.dot(X.T, delta2)  \n",
        "        \n",
        "        return dJdW1, dJdW2\n",
        "    \n",
        "    #Helper Functions for interacting with other classes:\n",
        "    def getParams(self):\n",
        "        #Get W1 and W2 unrolled into vector:\n",
        "        params = np.concatenate((self.W1.ravel(), self.W2.ravel()))\n",
        "        return params\n",
        "    \n",
        "    def setParams(self, params):\n",
        "        #Set W1 and W2 using single paramater vector.\n",
        "        W1_start = 0\n",
        "        W1_end = self.hiddenLayerSize * self.inputLayerSize\n",
        "        self.W1 = np.reshape(params[W1_start:W1_end], (self.inputLayerSize , self.hiddenLayerSize))\n",
        "        W2_end = W1_end + self.hiddenLayerSize*self.outputLayerSize\n",
        "        self.W2 = np.reshape(params[W1_end:W2_end], (self.hiddenLayerSize, self.outputLayerSize))\n",
        "        \n",
        "    def computeGradients(self, X, y):\n",
        "        dJdW1, dJdW2 = self.costFunctionPrime(X, y)\n",
        "        return np.concatenate((dJdW1.ravel(), dJdW2.ravel()))"
      ],
      "execution_count": 0,
      "outputs": []
    },
    {
      "cell_type": "code",
      "metadata": {
        "id": "h0pwNmolCdV7",
        "colab_type": "code",
        "colab": {}
      },
      "source": [
        "from scipy import optimize\n",
        "class trainer(object):\n",
        "    def __init__(self, N):\n",
        "        #Make Local reference to network:\n",
        "        self.N = N\n",
        "        \n",
        "    def callbackF(self, params):\n",
        "        self.N.setParams(params)\n",
        "        self.J.append(self.N.costFunction(self.X, self.y))   \n",
        "        \n",
        "    def costFunctionWrapper(self, params, X, y):\n",
        "        self.N.setParams(params)\n",
        "        cost = self.N.costFunction(X, y)\n",
        "        grad = self.N.computeGradients(X,y)\n",
        "        \n",
        "        return cost, grad\n",
        "        \n",
        "    def train(self, X, y):\n",
        "        #Make an internal variable for the callback function:\n",
        "        self.X = X\n",
        "        self.y = y\n",
        "\n",
        "        #Make empty list to store costs:\n",
        "        self.J = []\n",
        "        \n",
        "        params0 = self.N.getParams()\n",
        "\n",
        "        options = {'maxiter': 200, 'disp' : True}\n",
        "        _res = optimize.minimize(self.costFunctionWrapper, params0, jac=True, method='BFGS', \\\n",
        "                                 args=(X, y), options=options, callback=self.callbackF)\n",
        "\n",
        "        self.N.setParams(_res.x)\n",
        "        self.optimizationResults = _res"
      ],
      "execution_count": 0,
      "outputs": []
    },
    {
      "cell_type": "code",
      "metadata": {
        "id": "q81__7BFCh50",
        "colab_type": "code",
        "colab": {}
      },
      "source": [
        "NN = Neural_Network()"
      ],
      "execution_count": 0,
      "outputs": []
    },
    {
      "cell_type": "code",
      "metadata": {
        "id": "AmbmM3SUCh3-",
        "colab_type": "code",
        "colab": {}
      },
      "source": [
        "T = trainer(NN)"
      ],
      "execution_count": 0,
      "outputs": []
    },
    {
      "cell_type": "code",
      "metadata": {
        "id": "PfphvPE9Ch18",
        "colab_type": "code",
        "colab": {
          "base_uri": "https://localhost:8080/",
          "height": 107
        },
        "outputId": "c8c70e68-c7f9-4bb8-e69c-5152495a2c1f"
      },
      "source": [
        "T.train(X,y)"
      ],
      "execution_count": 18,
      "outputs": [
        {
          "output_type": "stream",
          "text": [
            "Optimization terminated successfully.\n",
            "         Current function value: 0.000003\n",
            "         Iterations: 36\n",
            "         Function evaluations: 39\n",
            "         Gradient evaluations: 39\n"
          ],
          "name": "stdout"
        }
      ]
    },
    {
      "cell_type": "code",
      "metadata": {
        "id": "edoJtYzECrsm",
        "colab_type": "code",
        "colab": {
          "base_uri": "https://localhost:8080/",
          "height": 197
        },
        "outputId": "a2b2feef-e404-4270-95b7-8ad7801bae93"
      },
      "source": [
        "print(\"Predicted Output: \\n\" + str(NN.forward(X))) \n",
        "print(\"Loss: \\n\" + str(np.mean(np.square(y - NN.forward(X))))) # mean sum squared loss"
      ],
      "execution_count": 19,
      "outputs": [
        {
          "output_type": "stream",
          "text": [
            "Predicted Output: \n",
            "[[2.84514039e-45]\n",
            " [9.99993879e-01]\n",
            " [9.99999691e-01]\n",
            " [1.00000000e+00]\n",
            " [9.97573848e-01]\n",
            " [2.92481682e-04]\n",
            " [1.95139971e-15]]\n",
            "Loss: \n",
            "8.531140446774472e-07\n"
          ],
          "name": "stdout"
        }
      ]
    },
    {
      "cell_type": "code",
      "metadata": {
        "id": "w5vvszFkCuKT",
        "colab_type": "code",
        "colab": {
          "base_uri": "https://localhost:8080/",
          "height": 283
        },
        "outputId": "1bc1b099-b3a3-459a-f9e6-07d61486a26e"
      },
      "source": [
        "import matplotlib.pyplot as plt\n",
        "plt.plot(T.J)\n",
        "plt.xlabel('Iterations')\n",
        "plt.ylabel('Cost')\n",
        "plt.show()"
      ],
      "execution_count": 20,
      "outputs": [
        {
          "output_type": "display_data",
          "data": {
            "image/png": "[encoded data removed]",
            "text/plain": [
              "<Figure size 432x288 with 1 Axes>"
            ]
          },
          "metadata": {
            "tags": []
          }
        }
      ]
    },
    {
      "cell_type": "code",
      "metadata": {
        "id": "arDTJJZk-jqC",
        "colab_type": "code",
        "colab": {}
      },
      "source": [
        "import numpy as np\n",
        "\n",
        "y_temp = np.zeros(y_train.shape)\n",
        "y_temp[np.where(y_train == 0.0)[0]] = 1\n",
        "y_train = y_temp\n",
        "\n",
        "y_temp = np.zeros(y_test.shape)\n",
        "y_temp[np.where(y_test == 0.0)[0]] = 1\n",
        "y_test = y_temp"
      ],
      "execution_count": 0,
      "outputs": []
    },
    {
      "cell_type": "code",
      "metadata": {
        "id": "aILipZZK-jqE",
        "colab_type": "code",
        "colab": {
          "base_uri": "https://localhost:8080/",
          "height": 35
        },
        "outputId": "5ad86dec-a9ba-41fc-ea57-7a42ec47e86c"
      },
      "source": [
        "# A Nice Binary target for ya to work with\n",
        "y_train"
      ],
      "execution_count": 22,
      "outputs": [
        {
          "output_type": "execute_result",
          "data": {
            "text/plain": [
              "array([1., 0., 1., ..., 1., 1., 1.])"
            ]
          },
          "metadata": {
            "tags": []
          },
          "execution_count": 22
        }
      ]
    },
    {
      "cell_type": "markdown",
      "metadata": {
        "id": "Aq6yiqqQ-jqF",
        "colab_type": "text"
      },
      "source": [
        "### Estimating Your `net"
      ]
    },
    {
      "cell_type": "code",
      "metadata": {
        "colab_type": "code",
        "id": "5MOPtYdk1HgA",
        "colab": {}
      },
      "source": [
        "##### Your Code Here #####\n",
        "\n"
      ],
      "execution_count": 0,
      "outputs": []
    },
    {
      "cell_type": "markdown",
      "metadata": {
        "colab_type": "text",
        "id": "FwlRJSfBlCvy"
      },
      "source": [
        "## Stretch Goals: \n",
        "\n",
        "- Make MNIST a multiclass problem using cross entropy & soft-max\n",
        "- Implement Cross Validation model evaluation on your MNIST implementation \n",
        "- Research different [Gradient Descent Based Optimizers](https://keras.io/optimizers/)\n",
        " - [Siraj Raval the evolution of gradient descent](https://www.youtube.com/watch?v=nhqo0u1a6fw)\n",
        "- Build a housing price estimation model using a neural network. How does its accuracy compare with the regression models that we fit earlier on in class?"
      ]
    }
  ]
}