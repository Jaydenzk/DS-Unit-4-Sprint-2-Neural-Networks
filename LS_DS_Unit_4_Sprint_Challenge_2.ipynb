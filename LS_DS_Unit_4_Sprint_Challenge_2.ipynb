{
  "nbformat": 4,
  "nbformat_minor": 0,
  "metadata": {
    "kernel_info": {
      "name": "python3"
    },
    "kernelspec": {
      "name": "python3",
      "language": "python",
      "display_name": "Python 3"
    },
    "language_info": {
      "name": "python",
      "version": "3.7.3",
      "mimetype": "text/x-python",
      "codemirror_mode": {
        "name": "ipython",
        "version": 3
      },
      "pygments_lexer": "ipython3",
      "nbconvert_exporter": "python",
      "file_extension": ".py"
    },
    "nteract": {
      "version": "0.15.0"
    },
    "colab": {
      "name": "LS_DS_Unit_4_Sprint_Challenge_2.ipynb",
      "provenance": [],
      "collapsed_sections": []
    }
  },
  "cells": [
    {
      "cell_type": "markdown",
      "metadata": {
        "id": "XcONaCvoS7sX",
        "colab_type": "text"
      },
      "source": [
        "<img align=\"left\" src=\"https://lever-client-logos.s3.amazonaws.com/864372b1-534c-480e-acd5-9711f850815c-1524247202159.png\" width=200>\n",
        "<br></br>\n",
        "<br></br>\n",
        "\n",
        "## *Data Science Unit 4 Sprint 2*\n",
        "\n",
        "# Sprint Challenge - Neural Network Foundations\n",
        "\n",
        "Table of Problems\n",
        "\n",
        "1. [Defining Neural Networks](#Q1)\n",
        "2. [Chocolate Gummy Bears](#Q2)\n",
        "    - Perceptron\n",
        "    - Multilayer Perceptron\n",
        "4. [Keras MMP](#Q3)"
      ]
    },
    {
      "cell_type": "markdown",
      "metadata": {
        "id": "WY5qRLjrS7sY",
        "colab_type": "text"
      },
      "source": [
        "<a id=\"Q1\"></a>\n",
        "## 1. Define the following terms:\n",
        "\n",
        "- **Neuron:** A function that receives an input and pass it to the next layer of nodes if a certain threshold is reached\n",
        "- **Input Layer:** A layer that receives input from dataset to be passed to network\n",
        "- **Hidden Layer:** The layer in between input and output. Hyperparameter, functions\n",
        "- **Output Layer:** Output vector of values\n",
        "- **Activation:** Transform output value into format that fits the context\n",
        "- **Backpropagation:** The process by which weights in the Neural Network are adjusted. This is where Gradient Descent usually comes in. Weights are adjusted in the direction that minimizes some defined loss function.\n"
      ]
    },
    {
      "cell_type": "markdown",
      "metadata": {
        "id": "iPn5ZC_tS7sZ",
        "colab_type": "text"
      },
      "source": [
        "## 2. Chocolate Gummy Bears <a id=\"Q2\"></a>\n",
        "\n",
        "Right now, you're probably thinking, \"yuck, who the hell would eat that?\". Great question. Your candy company wants to know too. And you thought I was kidding about the [Chocolate Gummy Bears](https://nuts.com/chocolatessweets/gummies/gummy-bears/milk-gummy-bears.html?utm_source=google&utm_medium=cpc&adpos=1o1&gclid=Cj0KCQjwrfvsBRD7ARIsAKuDvMOZrysDku3jGuWaDqf9TrV3x5JLXt1eqnVhN0KM6fMcbA1nod3h8AwaAvWwEALw_wcB). \n",
        "\n",
        "Let's assume that a candy company has gone out and collected information on the types of Halloween candy kids ate. Our candy company wants to predict the eating behavior of witches, warlocks, and ghosts -- aka costumed kids. They shared a sample dataset with us. Each row represents a piece of candy that a costumed child was presented with during \"trick\" or \"treat\". We know if the candy was `chocolate` (or not chocolate) or `gummy` (or not gummy). Your goal is to predict if the costumed kid `ate` the piece of candy. \n",
        "\n",
        "If both chocolate and gummy equal one, you've got a chocolate gummy bear on your hands!?!?!\n",
        "![Chocolate Gummy Bear](https://ed910ae2d60f0d25bcb8-80550f96b5feb12604f4f720bfefb46d.ssl.cf1.rackcdn.com/3fb630c04435b7b5-2leZuM7_-zoom.jpg)"
      ]
    },
    {
      "cell_type": "code",
      "metadata": {
        "inputHidden": false,
        "outputHidden": false,
        "id": "C48yhHbfS7sZ",
        "colab_type": "code",
        "colab": {}
      },
      "source": [
        "import pandas as pd\n",
        "candy = pd.read_csv('/content/chocolate_gummy_bears.csv')"
      ],
      "execution_count": 0,
      "outputs": []
    },
    {
      "cell_type": "code",
      "metadata": {
        "id": "g-Osd9fAcEfY",
        "colab_type": "code",
        "colab": {}
      },
      "source": [
        "import numpy as np"
      ],
      "execution_count": 0,
      "outputs": []
    },
    {
      "cell_type": "code",
      "metadata": {
        "outputHidden": false,
        "inputHidden": false,
        "id": "KpwyoKWCS7sc",
        "colab_type": "code",
        "colab": {
          "base_uri": "https://localhost:8080/",
          "height": 204
        },
        "outputId": "d6b60aa1-6b87-4412-989a-3c6e8633c126"
      },
      "source": [
        "candy.head()"
      ],
      "execution_count": 88,
      "outputs": [
        {
          "output_type": "execute_result",
          "data": {
            "text/html": [
              "<div>\n",
              "<style scoped>\n",
              "    .dataframe tbody tr th:only-of-type {\n",
              "        vertical-align: middle;\n",
              "    }\n",
              "\n",
              "    .dataframe tbody tr th {\n",
              "        vertical-align: top;\n",
              "    }\n",
              "\n",
              "    .dataframe thead th {\n",
              "        text-align: right;\n",
              "    }\n",
              "</style>\n",
              "<table border=\"1\" class=\"dataframe\">\n",
              "  <thead>\n",
              "    <tr style=\"text-align: right;\">\n",
              "      <th></th>\n",
              "      <th>chocolate</th>\n",
              "      <th>gummy</th>\n",
              "      <th>ate</th>\n",
              "    </tr>\n",
              "  </thead>\n",
              "  <tbody>\n",
              "    <tr>\n",
              "      <th>0</th>\n",
              "      <td>0</td>\n",
              "      <td>1</td>\n",
              "      <td>1</td>\n",
              "    </tr>\n",
              "    <tr>\n",
              "      <th>1</th>\n",
              "      <td>1</td>\n",
              "      <td>0</td>\n",
              "      <td>1</td>\n",
              "    </tr>\n",
              "    <tr>\n",
              "      <th>2</th>\n",
              "      <td>0</td>\n",
              "      <td>1</td>\n",
              "      <td>1</td>\n",
              "    </tr>\n",
              "    <tr>\n",
              "      <th>3</th>\n",
              "      <td>0</td>\n",
              "      <td>0</td>\n",
              "      <td>0</td>\n",
              "    </tr>\n",
              "    <tr>\n",
              "      <th>4</th>\n",
              "      <td>1</td>\n",
              "      <td>1</td>\n",
              "      <td>0</td>\n",
              "    </tr>\n",
              "  </tbody>\n",
              "</table>\n",
              "</div>"
            ],
            "text/plain": [
              "   chocolate  gummy  ate\n",
              "0          0      1    1\n",
              "1          1      0    1\n",
              "2          0      1    1\n",
              "3          0      0    0\n",
              "4          1      1    0"
            ]
          },
          "metadata": {
            "tags": []
          },
          "execution_count": 88
        }
      ]
    },
    {
      "cell_type": "code",
      "metadata": {
        "id": "CYOm85N6c29F",
        "colab_type": "code",
        "colab": {
          "base_uri": "https://localhost:8080/",
          "height": 35
        },
        "outputId": "1ae95407-58e7-47d0-dee5-9b076a4acf33"
      },
      "source": [
        "candy.shape"
      ],
      "execution_count": 89,
      "outputs": [
        {
          "output_type": "execute_result",
          "data": {
            "text/plain": [
              "(10000, 3)"
            ]
          },
          "metadata": {
            "tags": []
          },
          "execution_count": 89
        }
      ]
    },
    {
      "cell_type": "markdown",
      "metadata": {
        "id": "F9PGLJ0wS7se",
        "colab_type": "text"
      },
      "source": [
        "### Perceptron\n",
        "\n",
        "To make predictions on the `candy` dataframe. Build and train a Perceptron using numpy. Your target column is `ate` and your features: `chocolate` and `gummy`. Do not do any feature engineering. :P\n",
        "\n",
        "Once you've trained your model, report your accuracy. Explain why you could not achieve a higher accuracy with a *simple perceptron*. It's possible to achieve ~95% accuracy on this dataset."
      ]
    },
    {
      "cell_type": "code",
      "metadata": {
        "id": "q0PE42GChfMw",
        "colab_type": "code",
        "colab": {}
      },
      "source": [
        "# Start your candy perceptron here\n",
        "\n",
        "X = candy[['chocolate', 'gummy']].values\n",
        "y = candy['ate'].values"
      ],
      "execution_count": 0,
      "outputs": []
    },
    {
      "cell_type": "code",
      "metadata": {
        "id": "n2xUm3UC7a_c",
        "colab_type": "code",
        "colab": {
          "base_uri": "https://localhost:8080/",
          "height": 35
        },
        "outputId": "735ad4a9-e9d0-42ea-f8d2-e8c5cf97a564"
      },
      "source": [
        "X.shape, y.shape"
      ],
      "execution_count": 97,
      "outputs": [
        {
          "output_type": "execute_result",
          "data": {
            "text/plain": [
              "((10000, 2), (10000,))"
            ]
          },
          "metadata": {
            "tags": []
          },
          "execution_count": 97
        }
      ]
    },
    {
      "cell_type": "code",
      "metadata": {
        "outputHidden": false,
        "inputHidden": false,
        "id": "IEEHUcjxS7sf",
        "colab_type": "code",
        "colab": {}
      },
      "source": [
        "#Manual split train, test 70%, 30%\n",
        "\n",
        "X_train = X[0:7000]\n",
        "y_train = y[0:7000]\n",
        "X_test = X[7000:10000]\n",
        "y_test = y[7000:10000]"
      ],
      "execution_count": 0,
      "outputs": []
    },
    {
      "cell_type": "code",
      "metadata": {
        "id": "Zt7tDRy7-IiD",
        "colab_type": "code",
        "colab": {}
      },
      "source": [
        "#Straight up from 1st lecture note\n",
        "\n",
        "class Perceptron(object):\n",
        "  def __init__(self, rate = 0.01, niter = 10):\n",
        "    self.rate = rate\n",
        "    self.niter = niter\n",
        "\n",
        "  def fit(self, X, y):\n",
        "    \"\"\"Fit training data\n",
        "    X : Training vectors, X.shape : [#samples, #features]\n",
        "    y : Target values, y.shape : [#samples]\n",
        "    \"\"\"\n",
        "\n",
        "    # weights\n",
        "    self.weight = np.zeros(1 + X.shape[1])\n",
        "\n",
        "    # Number of misclassifications\n",
        "    self.errors = []  # Number of misclassifications\n",
        "\n",
        "    for i in range(self.niter):\n",
        "      err = 0\n",
        "      for xi, target in zip(X, y):\n",
        "        delta_w = self.rate * (target - self.predict(xi))\n",
        "        self.weight[1:] += delta_w * xi\n",
        "        self.weight[0] += delta_w\n",
        "        err += int(delta_w != 0.0)\n",
        "      self.errors.append(err)\n",
        "    return self\n",
        "\n",
        "  def net_input(self, X):\n",
        "    \"\"\"Calculate net input\"\"\"\n",
        "    return np.dot(X, self.weight[1:]) + self.weight[0]\n",
        "\n",
        "  def predict(self, X):\n",
        "    \"\"\"Return class label after unit step\"\"\"\n",
        "    return np.where(self.net_input(X) >= 0.0, 1, -1)"
      ],
      "execution_count": 0,
      "outputs": []
    },
    {
      "cell_type": "code",
      "metadata": {
        "id": "UOBgaCtT-LUw",
        "colab_type": "code",
        "colab": {
          "base_uri": "https://localhost:8080/",
          "height": 35
        },
        "outputId": "0cab75a1-943e-48b2-f8c9-a95db24fbafa"
      },
      "source": [
        "pn = Perceptron(0.1, 10)\n",
        "pn.fit(X_train, y_train)"
      ],
      "execution_count": 104,
      "outputs": [
        {
          "output_type": "execute_result",
          "data": {
            "text/plain": [
              "<__main__.Perceptron at 0x7f5806b69e10>"
            ]
          },
          "metadata": {
            "tags": []
          },
          "execution_count": 104
        }
      ]
    },
    {
      "cell_type": "code",
      "metadata": {
        "id": "uIS0kWsH-Pon",
        "colab_type": "code",
        "colab": {
          "base_uri": "https://localhost:8080/",
          "height": 35
        },
        "outputId": "640e1c56-2c2c-4182-c2b7-2ea897acc7db"
      },
      "source": [
        "from sklearn.metrics import accuracy_score\n",
        "pred = pn.predict(X_test)\n",
        "accuracy_score(pred, y_test)"
      ],
      "execution_count": 105,
      "outputs": [
        {
          "output_type": "execute_result",
          "data": {
            "text/plain": [
              "0.5036666666666667"
            ]
          },
          "metadata": {
            "tags": []
          },
          "execution_count": 105
        }
      ]
    },
    {
      "cell_type": "markdown",
      "metadata": {
        "id": "tMlvxPCuS7sh",
        "colab_type": "text"
      },
      "source": [
        "### Multilayer Perceptron <a id=\"Q3\"></a>\n",
        "\n",
        "Using the sample candy dataset, implement a Neural Network Multilayer Perceptron class that uses backpropagation to update the network's weights. Your Multilayer Perceptron should be implemented in Numpy. \n",
        "Your network must have one hidden layer.\n",
        "\n",
        "Once you've trained your model, report your accuracy. Explain why your MLP's performance is considerably better than your simple perceptron's on the candy dataset. "
      ]
    },
    {
      "cell_type": "code",
      "metadata": {
        "outputHidden": false,
        "inputHidden": false,
        "id": "pDQAckvRS7sh",
        "colab_type": "code",
        "colab": {
          "base_uri": "https://localhost:8080/",
          "height": 204
        },
        "outputId": "a8e84236-7672-4606-e4ae-a7e8679b6e5f"
      },
      "source": [
        "import pandas as pd\n",
        "from sklearn.preprocessing import StandardScaler\n",
        "from sklearn.model_selection import train_test_split\n",
        "\n",
        "candy.head()"
      ],
      "execution_count": 55,
      "outputs": [
        {
          "output_type": "execute_result",
          "data": {
            "text/html": [
              "<div>\n",
              "<style scoped>\n",
              "    .dataframe tbody tr th:only-of-type {\n",
              "        vertical-align: middle;\n",
              "    }\n",
              "\n",
              "    .dataframe tbody tr th {\n",
              "        vertical-align: top;\n",
              "    }\n",
              "\n",
              "    .dataframe thead th {\n",
              "        text-align: right;\n",
              "    }\n",
              "</style>\n",
              "<table border=\"1\" class=\"dataframe\">\n",
              "  <thead>\n",
              "    <tr style=\"text-align: right;\">\n",
              "      <th></th>\n",
              "      <th>chocolate</th>\n",
              "      <th>gummy</th>\n",
              "      <th>ate</th>\n",
              "    </tr>\n",
              "  </thead>\n",
              "  <tbody>\n",
              "    <tr>\n",
              "      <th>0</th>\n",
              "      <td>0</td>\n",
              "      <td>1</td>\n",
              "      <td>1</td>\n",
              "    </tr>\n",
              "    <tr>\n",
              "      <th>1</th>\n",
              "      <td>1</td>\n",
              "      <td>0</td>\n",
              "      <td>1</td>\n",
              "    </tr>\n",
              "    <tr>\n",
              "      <th>2</th>\n",
              "      <td>0</td>\n",
              "      <td>1</td>\n",
              "      <td>1</td>\n",
              "    </tr>\n",
              "    <tr>\n",
              "      <th>3</th>\n",
              "      <td>0</td>\n",
              "      <td>0</td>\n",
              "      <td>0</td>\n",
              "    </tr>\n",
              "    <tr>\n",
              "      <th>4</th>\n",
              "      <td>1</td>\n",
              "      <td>1</td>\n",
              "      <td>0</td>\n",
              "    </tr>\n",
              "  </tbody>\n",
              "</table>\n",
              "</div>"
            ],
            "text/plain": [
              "   chocolate  gummy  ate\n",
              "0          0      1    1\n",
              "1          1      0    1\n",
              "2          0      1    1\n",
              "3          0      0    0\n",
              "4          1      1    0"
            ]
          },
          "metadata": {
            "tags": []
          },
          "execution_count": 55
        }
      ]
    },
    {
      "cell_type": "code",
      "metadata": {
        "id": "BGXmhaj6nbmD",
        "colab_type": "code",
        "colab": {
          "base_uri": "https://localhost:8080/",
          "height": 53
        },
        "outputId": "2476f7e2-bef0-44d4-b556-20215ef67232"
      },
      "source": [
        "sc = StandardScaler()\n",
        "dataset = candy.values\n",
        "# split into input (X) and output (y) variables\n",
        "X = dataset[:,:-1]\n",
        "X = sc.fit_transform(X)\n",
        "y = dataset[:,-1]\n",
        "y = y.reshape(y.shape[0], 1)\n",
        "print(X.shape)\n",
        "print(y.shape)"
      ],
      "execution_count": 56,
      "outputs": [
        {
          "output_type": "stream",
          "text": [
            "(10000, 2)\n",
            "(10000, 1)\n"
          ],
          "name": "stdout"
        }
      ]
    },
    {
      "cell_type": "code",
      "metadata": {
        "id": "UOcEPVSnnbjY",
        "colab_type": "code",
        "colab": {}
      },
      "source": [
        "class NeuralNetwork:\n",
        "    def __init__(self):\n",
        "        # Set up Architecture of Neural Network\n",
        "        self.inputs = X.shape[1]\n",
        "        self.hiddenNodes = 13\n",
        "        self.outputNodes = 1\n",
        "        \n",
        "        # Initial Weights\n",
        "        # 13x26 Matrix Array for the First Layer\n",
        "        self.weights1 = 2 * np.random.randn(self.inputs, self.hiddenNodes) - 1\n",
        "        # 26x1 Matrix Array for Hidden to Output\n",
        "        self.weights2 = 2 * np.random.rand(self.hiddenNodes, self.outputNodes) - 1\n",
        "        \n",
        "    def sigmoid(self, s):\n",
        "        return 1 / (1 + np.exp(-s))\n",
        "    \n",
        "    def sigmoidPrime(self, s):\n",
        "        return s * (1 - s)\n",
        "    \n",
        "    def feed_forward(self, X):\n",
        "        \"\"\"\n",
        "        Calculate the NN inference using feed forward.\n",
        "        aka \"predict\"\n",
        "        \"\"\"\n",
        "        \n",
        "        # Weighted sum of inputs => hidden layer\n",
        "        self.hidden_sum = np.dot(X, self.weights1)\n",
        "        \n",
        "        # Activations of weighted sum\n",
        "        self.activated_hidden = self.sigmoid(self.hidden_sum)\n",
        "        \n",
        "        # Weight sum between hidden and output\n",
        "        self.output_sum = np.dot(self.activated_hidden, self.weights2)\n",
        "        \n",
        "        # Final activation of output\n",
        "        self.activated_output = self.sigmoid(self.output_sum)\n",
        "        \n",
        "        return self.activated_output\n",
        "    def backward(self, X, y, o):\n",
        "        \"\"\"\n",
        "        Backward propagate through the network\n",
        "        \"\"\"\n",
        "        \n",
        "        # Error in output\n",
        "        self.o_error = y - o\n",
        "        \n",
        "        # Apply derivative of sigmoid to error\n",
        "        # How far off are we in relation to the Sigmoid f(x) of the output\n",
        "        # ^- hidden => output\n",
        "        self.o_delta = self.o_error * self.sigmoidPrime(o) # apply derivative of sigmoid to error\n",
        "        \n",
        "        # z2 error\n",
        "        self.z2_error = self.o_delta.dot(self.weights2.T) # how much the hidden layer weights were off\n",
        "        # How much of that \"far off\" can be explained by the inputs => hidden layer\n",
        "        self.z2_delta = self.z2_error * self.sigmoidPrime(self.activated_hidden)\n",
        "        \n",
        "        # Adjustment to first set of weights (input => hidden)\n",
        "        self.weights1 += X.T.dot(self.z2_delta)\n",
        "        \n",
        "        # Adjustment to second set of weights (hidden => output)\n",
        "        self.weights2 += self.activated_hidden.T.dot(self.o_delta)\n",
        "        \n",
        "    def train(self, X, y):\n",
        "        # Output\n",
        "        o = self.feed_forward(X)\n",
        "        self.backward(X, y, o)"
      ],
      "execution_count": 0,
      "outputs": []
    },
    {
      "cell_type": "code",
      "metadata": {
        "id": "UtlcNI_qnbhR",
        "colab_type": "code",
        "colab": {
          "base_uri": "https://localhost:8080/",
          "height": 161
        },
        "outputId": "d8645dc9-3f39-473b-d2f6-fd9f727a722f"
      },
      "source": [
        "nn = NeuralNetwork()\n",
        "# number of epochs / iterations\n",
        "loss_lst = []\n",
        "for i in range(2):\n",
        "    if (i+1 in [1,2,3,4,5]) or ((i+1) % 50 ==0):\n",
        "        print('+' + '---' * 3 + f'EPOCH {i+1}' + '---'*3 + '+')\n",
        "        loss = np.mean(np.square(y - nn.feed_forward(X)))\n",
        "#         if loss < .1:\n",
        "#             print('Input: \\n', X)\n",
        "#             print('First 5 Actual Output: \\n', y[:5])\n",
        "#             print('First 5 Predicted Output: \\n', str(nn.feed_forward(X)[:5]))\n",
        "#             print(\"Total Loss: \\n\", str(loss))\n",
        "#             break\n",
        "        print(\"Accuracy: \\n\", str(loss))\n",
        "    loss_lst.append(loss)\n",
        "    nn.train(X,y)"
      ],
      "execution_count": 60,
      "outputs": [
        {
          "output_type": "stream",
          "text": [
            "+---------EPOCH 1---------+\n",
            "Accuracy: \n",
            " 0.2541104685957717\n",
            "+---------EPOCH 2---------+\n",
            "Accuracy: \n",
            " 0.5\n"
          ],
          "name": "stdout"
        },
        {
          "output_type": "stream",
          "text": [
            "/usr/local/lib/python3.6/dist-packages/ipykernel_launcher.py:15: RuntimeWarning: overflow encountered in exp\n",
            "  from ipykernel import kernelapp as app\n"
          ],
          "name": "stderr"
        }
      ]
    },
    {
      "cell_type": "markdown",
      "metadata": {
        "id": "Z4-DcOOXS7sj",
        "colab_type": "text"
      },
      "source": [
        "P.S. Don't try candy gummy bears. They're disgusting. "
      ]
    },
    {
      "cell_type": "markdown",
      "metadata": {
        "id": "YD_SG-XJS7sk",
        "colab_type": "text"
      },
      "source": [
        "## 3. Keras MMP <a id=\"Q3\"></a>\n",
        "\n",
        "Implement a Multilayer Perceptron architecture of your choosing using the Keras library. Train your model and report its baseline accuracy. Then hyperparameter tune at least two parameters and report your model's accuracy.\n",
        "Use the Heart Disease Dataset (binary classification)\n",
        "Use an appropriate loss function for a binary classification task\n",
        "Use an appropriate activation function on the final layer of your network.\n",
        "Train your model using verbose output for ease of grading.\n",
        "Use GridSearchCV or RandomSearchCV to hyperparameter tune your model. (for at least two hyperparameters)\n",
        "When hyperparameter tuning, show you work by adding code cells for each new experiment.\n",
        "Report the accuracy for each combination of hyperparameters as you test them so that we can easily see which resulted in the highest accuracy.\n",
        "You must hyperparameter tune at least 3 parameters in order to get a 3 on this section."
      ]
    },
    {
      "cell_type": "code",
      "metadata": {
        "inputHidden": false,
        "outputHidden": false,
        "id": "LRSnozbgS7sk",
        "colab_type": "code",
        "colab": {
          "base_uri": "https://localhost:8080/",
          "height": 222
        },
        "outputId": "1d9d1d3d-d0a7-4522-d54e-b5a16e0450dd"
      },
      "source": [
        "import pandas as pd\n",
        "from sklearn.preprocessing import StandardScaler\n",
        "\n",
        "df = pd.read_csv('https://raw.githubusercontent.com/ryanleeallred/datasets/master/heart.csv')\n",
        "df = df.sample(frac=1)\n",
        "print(df.shape)\n",
        "df.head()"
      ],
      "execution_count": 28,
      "outputs": [
        {
          "output_type": "stream",
          "text": [
            "(303, 14)\n"
          ],
          "name": "stdout"
        },
        {
          "output_type": "execute_result",
          "data": {
            "text/html": [
              "<div>\n",
              "<style scoped>\n",
              "    .dataframe tbody tr th:only-of-type {\n",
              "        vertical-align: middle;\n",
              "    }\n",
              "\n",
              "    .dataframe tbody tr th {\n",
              "        vertical-align: top;\n",
              "    }\n",
              "\n",
              "    .dataframe thead th {\n",
              "        text-align: right;\n",
              "    }\n",
              "</style>\n",
              "<table border=\"1\" class=\"dataframe\">\n",
              "  <thead>\n",
              "    <tr style=\"text-align: right;\">\n",
              "      <th></th>\n",
              "      <th>age</th>\n",
              "      <th>sex</th>\n",
              "      <th>cp</th>\n",
              "      <th>trestbps</th>\n",
              "      <th>chol</th>\n",
              "      <th>fbs</th>\n",
              "      <th>restecg</th>\n",
              "      <th>thalach</th>\n",
              "      <th>exang</th>\n",
              "      <th>oldpeak</th>\n",
              "      <th>slope</th>\n",
              "      <th>ca</th>\n",
              "      <th>thal</th>\n",
              "      <th>target</th>\n",
              "    </tr>\n",
              "  </thead>\n",
              "  <tbody>\n",
              "    <tr>\n",
              "      <th>246</th>\n",
              "      <td>56</td>\n",
              "      <td>0</td>\n",
              "      <td>0</td>\n",
              "      <td>134</td>\n",
              "      <td>409</td>\n",
              "      <td>0</td>\n",
              "      <td>0</td>\n",
              "      <td>150</td>\n",
              "      <td>1</td>\n",
              "      <td>1.9</td>\n",
              "      <td>1</td>\n",
              "      <td>2</td>\n",
              "      <td>3</td>\n",
              "      <td>0</td>\n",
              "    </tr>\n",
              "    <tr>\n",
              "      <th>160</th>\n",
              "      <td>56</td>\n",
              "      <td>1</td>\n",
              "      <td>1</td>\n",
              "      <td>120</td>\n",
              "      <td>240</td>\n",
              "      <td>0</td>\n",
              "      <td>1</td>\n",
              "      <td>169</td>\n",
              "      <td>0</td>\n",
              "      <td>0.0</td>\n",
              "      <td>0</td>\n",
              "      <td>0</td>\n",
              "      <td>2</td>\n",
              "      <td>1</td>\n",
              "    </tr>\n",
              "    <tr>\n",
              "      <th>274</th>\n",
              "      <td>47</td>\n",
              "      <td>1</td>\n",
              "      <td>0</td>\n",
              "      <td>110</td>\n",
              "      <td>275</td>\n",
              "      <td>0</td>\n",
              "      <td>0</td>\n",
              "      <td>118</td>\n",
              "      <td>1</td>\n",
              "      <td>1.0</td>\n",
              "      <td>1</td>\n",
              "      <td>1</td>\n",
              "      <td>2</td>\n",
              "      <td>0</td>\n",
              "    </tr>\n",
              "    <tr>\n",
              "      <th>248</th>\n",
              "      <td>54</td>\n",
              "      <td>1</td>\n",
              "      <td>1</td>\n",
              "      <td>192</td>\n",
              "      <td>283</td>\n",
              "      <td>0</td>\n",
              "      <td>0</td>\n",
              "      <td>195</td>\n",
              "      <td>0</td>\n",
              "      <td>0.0</td>\n",
              "      <td>2</td>\n",
              "      <td>1</td>\n",
              "      <td>3</td>\n",
              "      <td>0</td>\n",
              "    </tr>\n",
              "    <tr>\n",
              "      <th>69</th>\n",
              "      <td>62</td>\n",
              "      <td>0</td>\n",
              "      <td>0</td>\n",
              "      <td>124</td>\n",
              "      <td>209</td>\n",
              "      <td>0</td>\n",
              "      <td>1</td>\n",
              "      <td>163</td>\n",
              "      <td>0</td>\n",
              "      <td>0.0</td>\n",
              "      <td>2</td>\n",
              "      <td>0</td>\n",
              "      <td>2</td>\n",
              "      <td>1</td>\n",
              "    </tr>\n",
              "  </tbody>\n",
              "</table>\n",
              "</div>"
            ],
            "text/plain": [
              "     age  sex  cp  trestbps  chol  fbs  ...  exang  oldpeak  slope  ca  thal  target\n",
              "246   56    0   0       134   409    0  ...      1      1.9      1   2     3       0\n",
              "160   56    1   1       120   240    0  ...      0      0.0      0   0     2       1\n",
              "274   47    1   0       110   275    0  ...      1      1.0      1   1     2       0\n",
              "248   54    1   1       192   283    0  ...      0      0.0      2   1     3       0\n",
              "69    62    0   0       124   209    0  ...      0      0.0      2   0     2       1\n",
              "\n",
              "[5 rows x 14 columns]"
            ]
          },
          "metadata": {
            "tags": []
          },
          "execution_count": 28
        }
      ]
    },
    {
      "cell_type": "code",
      "metadata": {
        "id": "hYN5mBmZl7FS",
        "colab_type": "code",
        "colab": {}
      },
      "source": [
        "import pandas as pd\n",
        "from sklearn.preprocessing import StandardScaler\n",
        "\n",
        "from tensorflow import keras\n",
        "from sklearn.model_selection import GridSearchCV\n",
        "from tensorflow.keras.models import Sequential\n",
        "from tensorflow.keras.layers import Dense, Dropout\n",
        "from tensorflow.keras.wrappers.scikit_learn import KerasClassifier"
      ],
      "execution_count": 0,
      "outputs": []
    },
    {
      "cell_type": "code",
      "metadata": {
        "id": "Z83LFIjCl7DP",
        "colab_type": "code",
        "colab": {
          "base_uri": "https://localhost:8080/",
          "height": 53
        },
        "outputId": "7c8625ad-6cfe-4e46-8960-5652fe783347"
      },
      "source": [
        "sc = StandardScaler()\n",
        "df = sc.fit_transform(df)\n",
        "# split into input (X) and output (y) variables\n",
        "X = df[:,:-1]\n",
        "y = df[:,-1]\n",
        "\n",
        "print(X.shape)\n",
        "print(y.shape)"
      ],
      "execution_count": 30,
      "outputs": [
        {
          "output_type": "stream",
          "text": [
            "(303, 13)\n",
            "(303,)\n"
          ],
          "name": "stdout"
        }
      ]
    },
    {
      "cell_type": "code",
      "metadata": {
        "id": "fPapDQAsl7A-",
        "colab_type": "code",
        "colab": {}
      },
      "source": [
        "# Create model function for Keras Classifier\n",
        "def create_model():\n",
        "    # create model\n",
        "    model = Sequential()\n",
        "    model.add(Dense(12, input_dim=13, activation='relu'))\n",
        "    model.add(Dense(1, activation='sigmoid'))\n",
        "    # Compile model\n",
        "    model.compile(loss='binary_crossentropy', optimizer='adam', metrics=['accuracy'])\n",
        "    return model"
      ],
      "execution_count": 0,
      "outputs": []
    },
    {
      "cell_type": "markdown",
      "metadata": {
        "id": "kHX_rPhKxzTZ",
        "colab_type": "text"
      },
      "source": [
        "## Baseline Model <a id=\"Q3=2\"></a>"
      ]
    },
    {
      "cell_type": "code",
      "metadata": {
        "id": "W0kCRkIVl6-3",
        "colab_type": "code",
        "colab": {
          "base_uri": "https://localhost:8080/",
          "height": 413
        },
        "outputId": "9ff74f1f-0094-45cc-b63b-94a4abc4934a"
      },
      "source": [
        "# Baseline Model\n",
        "\n",
        "num_neurons = 13\n",
        "epochs = 10\n",
        "batch_size = 13\n",
        "init_mode = 'normal'\n",
        "learning_rate = .5\n",
        "\n",
        "# create model\n",
        "model = KerasClassifier(build_fn=create_model, epochs=epochs, batch_size=batch_size, verbose=1)\n",
        "model.fit(X, y, validation_split=.1)"
      ],
      "execution_count": 39,
      "outputs": [
        {
          "output_type": "stream",
          "text": [
            "Train on 272 samples, validate on 31 samples\n",
            "Epoch 1/10\n",
            "272/272 [==============================] - 0s 486us/sample - loss: 0.6027 - acc: 0.7059 - val_loss: 0.5827 - val_acc: 0.7097\n",
            "Epoch 2/10\n",
            "272/272 [==============================] - 0s 133us/sample - loss: 0.5562 - acc: 0.7390 - val_loss: 0.5633 - val_acc: 0.7419\n",
            "Epoch 3/10\n",
            "272/272 [==============================] - 0s 130us/sample - loss: 0.5203 - acc: 0.7684 - val_loss: 0.5459 - val_acc: 0.7419\n",
            "Epoch 4/10\n",
            "272/272 [==============================] - 0s 133us/sample - loss: 0.4893 - acc: 0.7794 - val_loss: 0.5326 - val_acc: 0.7419\n",
            "Epoch 5/10\n",
            "272/272 [==============================] - 0s 102us/sample - loss: 0.4632 - acc: 0.7904 - val_loss: 0.5221 - val_acc: 0.7419\n",
            "Epoch 6/10\n",
            "272/272 [==============================] - 0s 101us/sample - loss: 0.4407 - acc: 0.8051 - val_loss: 0.5143 - val_acc: 0.7419\n",
            "Epoch 7/10\n",
            "272/272 [==============================] - 0s 109us/sample - loss: 0.4207 - acc: 0.8199 - val_loss: 0.5092 - val_acc: 0.7097\n",
            "Epoch 8/10\n",
            "272/272 [==============================] - 0s 119us/sample - loss: 0.4030 - acc: 0.8272 - val_loss: 0.5063 - val_acc: 0.7097\n",
            "Epoch 9/10\n",
            "272/272 [==============================] - 0s 107us/sample - loss: 0.3882 - acc: 0.8272 - val_loss: 0.5047 - val_acc: 0.7097\n",
            "Epoch 10/10\n",
            "272/272 [==============================] - 0s 120us/sample - loss: 0.3752 - acc: 0.8382 - val_loss: 0.5038 - val_acc: 0.7419\n"
          ],
          "name": "stdout"
        },
        {
          "output_type": "execute_result",
          "data": {
            "text/plain": [
              "<tensorflow.python.keras.callbacks.History at 0x7f580c1632b0>"
            ]
          },
          "metadata": {
            "tags": []
          },
          "execution_count": 39
        }
      ]
    },
    {
      "cell_type": "markdown",
      "metadata": {
        "id": "kh9LRKH0sUCz",
        "colab_type": "text"
      },
      "source": [
        "## Hyperparameter Tune (3 models: batch size tune, epochs tune, num eurons and learning rate tune) <a id=\"Q3=2\"></a>"
      ]
    },
    {
      "cell_type": "code",
      "metadata": {
        "id": "Nft5Dqgdl67O",
        "colab_type": "code",
        "colab": {
          "base_uri": "https://localhost:8080/",
          "height": 233
        },
        "outputId": "d62cf184-e601-49a2-c1de-0f57bafc24d7"
      },
      "source": [
        "# GridSearchCV to hyperparameter\n",
        "# Tune Batch size\n",
        "\n",
        "# Hyperparameters\n",
        "num_neurons = 13\n",
        "init_mode = 'normal'\n",
        "learning_rate = .5\n",
        "# Grid Search parameters\n",
        "\n",
        "param_grid = {'batch_size': [10, 30, 50, 100],\n",
        "              'epochs': [10, 20]}\n",
        "# create model\n",
        "model = KerasClassifier(build_fn=create_model, verbose=0)\n",
        "# Create Grid Search\n",
        "grid = GridSearchCV(estimator=model, param_grid=param_grid, n_jobs=1)\n",
        "grid_result = grid.fit(X, y)\n",
        "\n",
        "# Report Results\n",
        "print(f\"Best: {grid_result.best_score_} using {grid_result.best_params_}\\n\")\n",
        "means = grid_result.cv_results_['mean_test_score']\n",
        "stds = grid_result.cv_results_['std_test_score']\n",
        "params = grid_result.cv_results_['params']\n",
        "for mean, stdev, param in zip(means, stds, params):\n",
        "    print(f\"Means: {mean}, Stdev: {stdev} with: {param}\") "
      ],
      "execution_count": 40,
      "outputs": [
        {
          "output_type": "stream",
          "text": [
            "/usr/local/lib/python3.6/dist-packages/sklearn/model_selection/_split.py:1978: FutureWarning: The default value of cv will change from 3 to 5 in version 0.22. Specify it explicitly to silence this warning.\n",
            "  warnings.warn(CV_WARNING, FutureWarning)\n"
          ],
          "name": "stderr"
        },
        {
          "output_type": "stream",
          "text": [
            "Best: 0.7953795393308004 using {'batch_size': 10, 'epochs': 20}\n",
            "\n",
            "Means: 0.7788778940836588, Stdev: 0.0673137688972482 with: {'batch_size': 10, 'epochs': 10}\n",
            "Means: 0.7953795393308004, Stdev: 0.06484117772000389 with: {'batch_size': 10, 'epochs': 20}\n",
            "Means: 0.6864686409632365, Stdev: 0.07063015293313091 with: {'batch_size': 30, 'epochs': 10}\n",
            "Means: 0.7821782231330872, Stdev: 0.04501048723594382 with: {'batch_size': 30, 'epochs': 20}\n",
            "Means: 0.5973597466945648, Stdev: 0.11724303580608335 with: {'batch_size': 50, 'epochs': 10}\n",
            "Means: 0.6732673048973083, Stdev: 0.021388576788767738 with: {'batch_size': 50, 'epochs': 20}\n",
            "Means: 0.6468646923700968, Stdev: 0.16335800976563744 with: {'batch_size': 100, 'epochs': 10}\n",
            "Means: 0.627062718073527, Stdev: 0.07335350495647412 with: {'batch_size': 100, 'epochs': 20}\n"
          ],
          "name": "stdout"
        }
      ]
    },
    {
      "cell_type": "code",
      "metadata": {
        "id": "UHe9iauZl65Q",
        "colab_type": "code",
        "colab": {
          "base_uri": "https://localhost:8080/",
          "height": 449
        },
        "outputId": "5c93d19d-52b9-4e6f-9e2a-762a4fe8a5f3"
      },
      "source": [
        "# GridSearchCV to hyperparameter\n",
        "# Tune epochs!!!\n",
        "\n",
        "# Hyperparameters\n",
        "num_neurons = 13\n",
        "init_mode = 'normal'\n",
        "learning_rate = .5\n",
        "# Grid Search parameters\n",
        "param_grid = {'batch_size': [10, 30, 50, 100],\n",
        "              'epochs': [5, 10, 20, 50, 80]}\n",
        "# create model\n",
        "model = KerasClassifier(build_fn=create_model, verbose=0)\n",
        "# Create Grid Search\n",
        "grid = GridSearchCV(estimator=model, param_grid=param_grid, n_jobs=1)\n",
        "grid_result = grid.fit(X, y)\n",
        "\n",
        "# Report Results\n",
        "print(f\"Best: {grid_result.best_score_} using {grid_result.best_params_}\\n\")\n",
        "means = grid_result.cv_results_['mean_test_score']\n",
        "stds = grid_result.cv_results_['std_test_score']\n",
        "params = grid_result.cv_results_['params']\n",
        "for mean, stdev, param in zip(means, stds, params):\n",
        "    print(f\"Means: {mean}, Stdev: {stdev} with: {param}\") "
      ],
      "execution_count": 41,
      "outputs": [
        {
          "output_type": "stream",
          "text": [
            "/usr/local/lib/python3.6/dist-packages/sklearn/model_selection/_split.py:1978: FutureWarning: The default value of cv will change from 3 to 5 in version 0.22. Specify it explicitly to silence this warning.\n",
            "  warnings.warn(CV_WARNING, FutureWarning)\n"
          ],
          "name": "stderr"
        },
        {
          "output_type": "stream",
          "text": [
            "Best: 0.8415841658910116 using {'batch_size': 10, 'epochs': 50}\n",
            "\n",
            "Means: 0.735973596572876, Stdev: 0.04148451343229978 with: {'batch_size': 10, 'epochs': 5}\n",
            "Means: 0.7524752616882324, Stdev: 0.03523787151819811 with: {'batch_size': 10, 'epochs': 10}\n",
            "Means: 0.8052805264790853, Stdev: 0.05382673785375711 with: {'batch_size': 10, 'epochs': 20}\n",
            "Means: 0.8415841658910116, Stdev: 0.04501051345849255 with: {'batch_size': 10, 'epochs': 50}\n",
            "Means: 0.8118811845779419, Stdev: 0.0646729772350719 with: {'batch_size': 10, 'epochs': 80}\n",
            "Means: 0.6138613820075989, Stdev: 0.05829543388949175 with: {'batch_size': 30, 'epochs': 5}\n",
            "Means: 0.6633663177490234, Stdev: 0.03523787151819811 with: {'batch_size': 30, 'epochs': 10}\n",
            "Means: 0.801980197429657, Stdev: 0.05048532667293615 with: {'batch_size': 30, 'epochs': 20}\n",
            "Means: 0.7953795393308004, Stdev: 0.040689189213402255 with: {'batch_size': 30, 'epochs': 50}\n",
            "Means: 0.8217821717262268, Stdev: 0.05048532667293615 with: {'batch_size': 30, 'epochs': 80}\n",
            "Means: 0.6336633662382761, Stdev: 0.11317774144729889 with: {'batch_size': 50, 'epochs': 5}\n",
            "Means: 0.5247524976730347, Stdev: 0.14618637180930288 with: {'batch_size': 50, 'epochs': 10}\n",
            "Means: 0.6897689898808798, Stdev: 0.049394828816331976 with: {'batch_size': 50, 'epochs': 20}\n",
            "Means: 0.778877874215444, Stdev: 0.06875467973817907 with: {'batch_size': 50, 'epochs': 50}\n",
            "Means: 0.801980197429657, Stdev: 0.03523787151819811 with: {'batch_size': 50, 'epochs': 80}\n",
            "Means: 0.495049516359965, Stdev: 0.0427771673733301 with: {'batch_size': 100, 'epochs': 5}\n",
            "Means: 0.5280528167883555, Stdev: 0.05678102064588596 with: {'batch_size': 100, 'epochs': 10}\n",
            "Means: 0.7095709641774496, Stdev: 0.07851734493036158 with: {'batch_size': 100, 'epochs': 20}\n",
            "Means: 0.7821782032648722, Stdev: 0.08440074111595573 with: {'batch_size': 100, 'epochs': 50}\n",
            "Means: 0.7854785521825155, Stdev: 0.03645332582644608 with: {'batch_size': 100, 'epochs': 80}\n"
          ],
          "name": "stdout"
        }
      ]
    },
    {
      "cell_type": "code",
      "metadata": {
        "id": "nJjNDJjcl62w",
        "colab_type": "code",
        "colab": {
          "base_uri": "https://localhost:8080/",
          "height": 233
        },
        "outputId": "60fd3bb6-f52c-4908-d26c-286c4fb43a39"
      },
      "source": [
        "# Hyperparameters\n",
        "# Tune num_neurons and learning rate\n",
        "\n",
        "num_neurons = 21\n",
        "init_mode = 'normal'\n",
        "learning_rate = .3\n",
        "# Grid Search parameters\n",
        "\n",
        "param_grid = {'batch_size': [10, 30, 50, 100],\n",
        "              'epochs': [10, 20]}\n",
        "# create model\n",
        "model = KerasClassifier(build_fn=create_model, verbose=0)\n",
        "# Create Grid Search\n",
        "grid = GridSearchCV(estimator=model, param_grid=param_grid, n_jobs=1)\n",
        "grid_result = grid.fit(X, y)\n",
        "\n",
        "# Report Results\n",
        "print(f\"Best: {grid_result.best_score_} using {grid_result.best_params_}\\n\")\n",
        "means = grid_result.cv_results_['mean_test_score']\n",
        "stds = grid_result.cv_results_['std_test_score']\n",
        "params = grid_result.cv_results_['params']\n",
        "for mean, stdev, param in zip(means, stds, params):\n",
        "    print(f\"Means: {mean}, Stdev: {stdev} with: {param}\") "
      ],
      "execution_count": 42,
      "outputs": [
        {
          "output_type": "stream",
          "text": [
            "/usr/local/lib/python3.6/dist-packages/sklearn/model_selection/_split.py:1978: FutureWarning: The default value of cv will change from 3 to 5 in version 0.22. Specify it explicitly to silence this warning.\n",
            "  warnings.warn(CV_WARNING, FutureWarning)\n"
          ],
          "name": "stderr"
        },
        {
          "output_type": "stream",
          "text": [
            "Best: 0.8283828298250834 using {'batch_size': 10, 'epochs': 20}\n",
            "\n",
            "Means: 0.7887788812319437, Stdev: 0.033656884448624094 with: {'batch_size': 10, 'epochs': 10}\n",
            "Means: 0.8283828298250834, Stdev: 0.048728774455357206 with: {'batch_size': 10, 'epochs': 20}\n",
            "Means: 0.660066028436025, Stdev: 0.08177895876323736 with: {'batch_size': 30, 'epochs': 10}\n",
            "Means: 0.7986798683802286, Stdev: 0.024697401133156067 with: {'batch_size': 30, 'epochs': 20}\n",
            "Means: 0.5973597367604574, Stdev: 0.025986816922028384 with: {'batch_size': 50, 'epochs': 10}\n",
            "Means: 0.7029703060785929, Stdev: 0.029147743940335084 with: {'batch_size': 50, 'epochs': 20}\n",
            "Means: 0.6105610529581705, Stdev: 0.03267159071396789 with: {'batch_size': 100, 'epochs': 10}\n",
            "Means: 0.6765676538149515, Stdev: 0.06174352407290809 with: {'batch_size': 100, 'epochs': 20}\n"
          ],
          "name": "stdout"
        }
      ]
    }
  ]
}